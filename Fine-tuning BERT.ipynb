{
  "cells": [
    {
      "cell_type": "markdown",
      "metadata": {
        "id": "view-in-github",
        "colab_type": "text"
      },
      "source": [
        "<a href=\"https://colab.research.google.com/github/mareloraby/Sentiment-Arcs/blob/main/Fine-tuning%20BERT.ipynb\" target=\"_parent\"><img src=\"https://colab.research.google.com/assets/colab-badge.svg\" alt=\"Open In Colab\"/></a>"
      ]
    },
    {
      "cell_type": "code",
      "execution_count": 1,
      "metadata": {
        "colab": {
          "base_uri": "https://localhost:8080/"
        },
        "id": "hskss95zD2MA",
        "outputId": "30642f4f-359b-4e52-e188-8463846b3730"
      },
      "outputs": [
        {
          "output_type": "stream",
          "name": "stdout",
          "text": [
            "Mounted at /content/drive\n"
          ]
        }
      ],
      "source": [
        "from google.colab import drive\n",
        "drive.mount('/content/drive') #Mount google drive to load training and testing data"
      ]
    },
    {
      "cell_type": "code",
      "execution_count": 2,
      "metadata": {
        "id": "LTF2TsBED_my"
      },
      "outputs": [],
      "source": [
        "!pip install transformers\n",
        "!pip install tensorflow\n",
        "\n",
        "from IPython.display import clear_output\n",
        "clear_output() # clear output window"
      ]
    },
    {
      "cell_type": "code",
      "execution_count": 3,
      "metadata": {
        "id": "20NIuVOuE_N3"
      },
      "outputs": [],
      "source": [
        "import os\n",
        "import re\n",
        "from tqdm import tqdm\n",
        "import numpy as np\n",
        "import matplotlib.pyplot as plt\n",
        "\n",
        "%matplotlib inline"
      ]
    },
    {
      "cell_type": "markdown",
      "source": [
        "### Loading Data"
      ],
      "metadata": {
        "id": "stLi7UNBE8ul"
      }
    },
    {
      "cell_type": "markdown",
      "source": [
        "Loading dataset for fine-tuning"
      ],
      "metadata": {
        "id": "6P5KAi78CL8S"
      }
    },
    {
      "cell_type": "code",
      "execution_count": 4,
      "metadata": {
        "colab": {
          "base_uri": "https://localhost:8080/",
          "height": 424
        },
        "id": "5HbPVi4bED5Q",
        "outputId": "dd99c815-7ec8-4e83-adb6-d30af87ec9d8"
      },
      "outputs": [
        {
          "output_type": "execute_result",
          "data": {
            "text/plain": [
              "                                                    text  label\n",
              "0      \"QT @user In the original draft of the 7th boo...      2\n",
              "1      \"Ben Smith / Smith (concussion) remains out of...      1\n",
              "2      Sorry bout the stream last night I crashed out...      1\n",
              "3      Chase Headley's RBI double in the 8th inning o...      1\n",
              "4      @user Alciato: Bee will invest 150 million in ...      2\n",
              "...                                                  ...    ...\n",
              "59894  \"LONDON (AP) \"\" Prince George celebrates his s...      1\n",
              "59895  Harper's Worst Offense against Refugees may be...      1\n",
              "59896  Hold on... Sam Smith may do the theme to Spect...      2\n",
              "59897  Gonna watch Final Destination 5 tonight. I alw...      1\n",
              "59898  \"Interview with Devon Alexander \\\"\"\"\"Speed Kil...      1\n",
              "\n",
              "[59899 rows x 2 columns]"
            ],
            "text/html": [
              "\n",
              "  <div id=\"df-8427d42d-574b-4c20-b056-3423b758f31e\">\n",
              "    <div class=\"colab-df-container\">\n",
              "      <div>\n",
              "<style scoped>\n",
              "    .dataframe tbody tr th:only-of-type {\n",
              "        vertical-align: middle;\n",
              "    }\n",
              "\n",
              "    .dataframe tbody tr th {\n",
              "        vertical-align: top;\n",
              "    }\n",
              "\n",
              "    .dataframe thead th {\n",
              "        text-align: right;\n",
              "    }\n",
              "</style>\n",
              "<table border=\"1\" class=\"dataframe\">\n",
              "  <thead>\n",
              "    <tr style=\"text-align: right;\">\n",
              "      <th></th>\n",
              "      <th>text</th>\n",
              "      <th>label</th>\n",
              "    </tr>\n",
              "  </thead>\n",
              "  <tbody>\n",
              "    <tr>\n",
              "      <th>0</th>\n",
              "      <td>\"QT @user In the original draft of the 7th boo...</td>\n",
              "      <td>2</td>\n",
              "    </tr>\n",
              "    <tr>\n",
              "      <th>1</th>\n",
              "      <td>\"Ben Smith / Smith (concussion) remains out of...</td>\n",
              "      <td>1</td>\n",
              "    </tr>\n",
              "    <tr>\n",
              "      <th>2</th>\n",
              "      <td>Sorry bout the stream last night I crashed out...</td>\n",
              "      <td>1</td>\n",
              "    </tr>\n",
              "    <tr>\n",
              "      <th>3</th>\n",
              "      <td>Chase Headley's RBI double in the 8th inning o...</td>\n",
              "      <td>1</td>\n",
              "    </tr>\n",
              "    <tr>\n",
              "      <th>4</th>\n",
              "      <td>@user Alciato: Bee will invest 150 million in ...</td>\n",
              "      <td>2</td>\n",
              "    </tr>\n",
              "    <tr>\n",
              "      <th>...</th>\n",
              "      <td>...</td>\n",
              "      <td>...</td>\n",
              "    </tr>\n",
              "    <tr>\n",
              "      <th>59894</th>\n",
              "      <td>\"LONDON (AP) \"\" Prince George celebrates his s...</td>\n",
              "      <td>1</td>\n",
              "    </tr>\n",
              "    <tr>\n",
              "      <th>59895</th>\n",
              "      <td>Harper's Worst Offense against Refugees may be...</td>\n",
              "      <td>1</td>\n",
              "    </tr>\n",
              "    <tr>\n",
              "      <th>59896</th>\n",
              "      <td>Hold on... Sam Smith may do the theme to Spect...</td>\n",
              "      <td>2</td>\n",
              "    </tr>\n",
              "    <tr>\n",
              "      <th>59897</th>\n",
              "      <td>Gonna watch Final Destination 5 tonight. I alw...</td>\n",
              "      <td>1</td>\n",
              "    </tr>\n",
              "    <tr>\n",
              "      <th>59898</th>\n",
              "      <td>\"Interview with Devon Alexander \\\"\"\"\"Speed Kil...</td>\n",
              "      <td>1</td>\n",
              "    </tr>\n",
              "  </tbody>\n",
              "</table>\n",
              "<p>59899 rows × 2 columns</p>\n",
              "</div>\n",
              "      <button class=\"colab-df-convert\" onclick=\"convertToInteractive('df-8427d42d-574b-4c20-b056-3423b758f31e')\"\n",
              "              title=\"Convert this dataframe to an interactive table.\"\n",
              "              style=\"display:none;\">\n",
              "        \n",
              "  <svg xmlns=\"http://www.w3.org/2000/svg\" height=\"24px\"viewBox=\"0 0 24 24\"\n",
              "       width=\"24px\">\n",
              "    <path d=\"M0 0h24v24H0V0z\" fill=\"none\"/>\n",
              "    <path d=\"M18.56 5.44l.94 2.06.94-2.06 2.06-.94-2.06-.94-.94-2.06-.94 2.06-2.06.94zm-11 1L8.5 8.5l.94-2.06 2.06-.94-2.06-.94L8.5 2.5l-.94 2.06-2.06.94zm10 10l.94 2.06.94-2.06 2.06-.94-2.06-.94-.94-2.06-.94 2.06-2.06.94z\"/><path d=\"M17.41 7.96l-1.37-1.37c-.4-.4-.92-.59-1.43-.59-.52 0-1.04.2-1.43.59L10.3 9.45l-7.72 7.72c-.78.78-.78 2.05 0 2.83L4 21.41c.39.39.9.59 1.41.59.51 0 1.02-.2 1.41-.59l7.78-7.78 2.81-2.81c.8-.78.8-2.07 0-2.86zM5.41 20L4 18.59l7.72-7.72 1.47 1.35L5.41 20z\"/>\n",
              "  </svg>\n",
              "      </button>\n",
              "      \n",
              "  <style>\n",
              "    .colab-df-container {\n",
              "      display:flex;\n",
              "      flex-wrap:wrap;\n",
              "      gap: 12px;\n",
              "    }\n",
              "\n",
              "    .colab-df-convert {\n",
              "      background-color: #E8F0FE;\n",
              "      border: none;\n",
              "      border-radius: 50%;\n",
              "      cursor: pointer;\n",
              "      display: none;\n",
              "      fill: #1967D2;\n",
              "      height: 32px;\n",
              "      padding: 0 0 0 0;\n",
              "      width: 32px;\n",
              "    }\n",
              "\n",
              "    .colab-df-convert:hover {\n",
              "      background-color: #E2EBFA;\n",
              "      box-shadow: 0px 1px 2px rgba(60, 64, 67, 0.3), 0px 1px 3px 1px rgba(60, 64, 67, 0.15);\n",
              "      fill: #174EA6;\n",
              "    }\n",
              "\n",
              "    [theme=dark] .colab-df-convert {\n",
              "      background-color: #3B4455;\n",
              "      fill: #D2E3FC;\n",
              "    }\n",
              "\n",
              "    [theme=dark] .colab-df-convert:hover {\n",
              "      background-color: #434B5C;\n",
              "      box-shadow: 0px 1px 3px 1px rgba(0, 0, 0, 0.15);\n",
              "      filter: drop-shadow(0px 1px 2px rgba(0, 0, 0, 0.3));\n",
              "      fill: #FFFFFF;\n",
              "    }\n",
              "  </style>\n",
              "\n",
              "      <script>\n",
              "        const buttonEl =\n",
              "          document.querySelector('#df-8427d42d-574b-4c20-b056-3423b758f31e button.colab-df-convert');\n",
              "        buttonEl.style.display =\n",
              "          google.colab.kernel.accessAllowed ? 'block' : 'none';\n",
              "\n",
              "        async function convertToInteractive(key) {\n",
              "          const element = document.querySelector('#df-8427d42d-574b-4c20-b056-3423b758f31e');\n",
              "          const dataTable =\n",
              "            await google.colab.kernel.invokeFunction('convertToInteractive',\n",
              "                                                     [key], {});\n",
              "          if (!dataTable) return;\n",
              "\n",
              "          const docLinkHtml = 'Like what you see? Visit the ' +\n",
              "            '<a target=\"_blank\" href=https://colab.research.google.com/notebooks/data_table.ipynb>data table notebook</a>'\n",
              "            + ' to learn more about interactive tables.';\n",
              "          element.innerHTML = '';\n",
              "          dataTable['output_type'] = 'display_data';\n",
              "          await google.colab.output.renderOutput(dataTable, element);\n",
              "          const docLink = document.createElement('div');\n",
              "          docLink.innerHTML = docLinkHtml;\n",
              "          element.appendChild(docLink);\n",
              "        }\n",
              "      </script>\n",
              "    </div>\n",
              "  </div>\n",
              "  "
            ]
          },
          "metadata": {},
          "execution_count": 4
        }
      ],
      "source": [
        "import pandas as pd\n",
        "\n",
        "df = pd.read_csv('/content/drive/MyDrive/NLP/TweetEval/trainTest.csv')\n",
        "dv = pd.read_csv('/content/drive/MyDrive/NLP/TweetEval/validation.csv')\n",
        "\n",
        "appended = df.append(dv, ignore_index = True)\n",
        "df = appended\n",
        "df"
      ]
    },
    {
      "cell_type": "markdown",
      "source": [
        "### **Pre - processing and Cleaning**"
      ],
      "metadata": {
        "id": "TYWsStjRCW24"
      }
    },
    {
      "cell_type": "code",
      "execution_count": 5,
      "metadata": {
        "id": "iSJxXk6BCdC7",
        "colab": {
          "base_uri": "https://localhost:8080/",
          "height": 424
        },
        "outputId": "7d8e9f51-8610-42c8-947e-988f493489f2"
      },
      "outputs": [
        {
          "output_type": "execute_result",
          "data": {
            "text/plain": [
              "                                                    text  label\n",
              "0      In the original draft of the 7th book, Remus L...      2\n",
              "1      \"Ben Smith / Smith (concussion) remains out of...      1\n",
              "2      Sorry bout the stream last night I crashed out...      1\n",
              "3      Chase Headley's RBI double in the 8th inning o...      1\n",
              "4      Alciato: Bee will invest 150 million in Januar...      2\n",
              "...                                                  ...    ...\n",
              "59894  \"LONDON (AP) \"\" Prince George celebrates his s...      1\n",
              "59895  Harper's Worst Offense against Refugees may be...      1\n",
              "59896  Hold on... Sam Smith may do the theme to Spect...      2\n",
              "59897  Gonna watch Final Destination 5 tonight. I alw...      1\n",
              "59898  \"Interview with Devon Alexander \\\"\"\"\"Speed Kil...      1\n",
              "\n",
              "[59813 rows x 2 columns]"
            ],
            "text/html": [
              "\n",
              "  <div id=\"df-e57fe4e7-8d7e-4f40-a725-cf7a043c043e\">\n",
              "    <div class=\"colab-df-container\">\n",
              "      <div>\n",
              "<style scoped>\n",
              "    .dataframe tbody tr th:only-of-type {\n",
              "        vertical-align: middle;\n",
              "    }\n",
              "\n",
              "    .dataframe tbody tr th {\n",
              "        vertical-align: top;\n",
              "    }\n",
              "\n",
              "    .dataframe thead th {\n",
              "        text-align: right;\n",
              "    }\n",
              "</style>\n",
              "<table border=\"1\" class=\"dataframe\">\n",
              "  <thead>\n",
              "    <tr style=\"text-align: right;\">\n",
              "      <th></th>\n",
              "      <th>text</th>\n",
              "      <th>label</th>\n",
              "    </tr>\n",
              "  </thead>\n",
              "  <tbody>\n",
              "    <tr>\n",
              "      <th>0</th>\n",
              "      <td>In the original draft of the 7th book, Remus L...</td>\n",
              "      <td>2</td>\n",
              "    </tr>\n",
              "    <tr>\n",
              "      <th>1</th>\n",
              "      <td>\"Ben Smith / Smith (concussion) remains out of...</td>\n",
              "      <td>1</td>\n",
              "    </tr>\n",
              "    <tr>\n",
              "      <th>2</th>\n",
              "      <td>Sorry bout the stream last night I crashed out...</td>\n",
              "      <td>1</td>\n",
              "    </tr>\n",
              "    <tr>\n",
              "      <th>3</th>\n",
              "      <td>Chase Headley's RBI double in the 8th inning o...</td>\n",
              "      <td>1</td>\n",
              "    </tr>\n",
              "    <tr>\n",
              "      <th>4</th>\n",
              "      <td>Alciato: Bee will invest 150 million in Januar...</td>\n",
              "      <td>2</td>\n",
              "    </tr>\n",
              "    <tr>\n",
              "      <th>...</th>\n",
              "      <td>...</td>\n",
              "      <td>...</td>\n",
              "    </tr>\n",
              "    <tr>\n",
              "      <th>59894</th>\n",
              "      <td>\"LONDON (AP) \"\" Prince George celebrates his s...</td>\n",
              "      <td>1</td>\n",
              "    </tr>\n",
              "    <tr>\n",
              "      <th>59895</th>\n",
              "      <td>Harper's Worst Offense against Refugees may be...</td>\n",
              "      <td>1</td>\n",
              "    </tr>\n",
              "    <tr>\n",
              "      <th>59896</th>\n",
              "      <td>Hold on... Sam Smith may do the theme to Spect...</td>\n",
              "      <td>2</td>\n",
              "    </tr>\n",
              "    <tr>\n",
              "      <th>59897</th>\n",
              "      <td>Gonna watch Final Destination 5 tonight. I alw...</td>\n",
              "      <td>1</td>\n",
              "    </tr>\n",
              "    <tr>\n",
              "      <th>59898</th>\n",
              "      <td>\"Interview with Devon Alexander \\\"\"\"\"Speed Kil...</td>\n",
              "      <td>1</td>\n",
              "    </tr>\n",
              "  </tbody>\n",
              "</table>\n",
              "<p>59813 rows × 2 columns</p>\n",
              "</div>\n",
              "      <button class=\"colab-df-convert\" onclick=\"convertToInteractive('df-e57fe4e7-8d7e-4f40-a725-cf7a043c043e')\"\n",
              "              title=\"Convert this dataframe to an interactive table.\"\n",
              "              style=\"display:none;\">\n",
              "        \n",
              "  <svg xmlns=\"http://www.w3.org/2000/svg\" height=\"24px\"viewBox=\"0 0 24 24\"\n",
              "       width=\"24px\">\n",
              "    <path d=\"M0 0h24v24H0V0z\" fill=\"none\"/>\n",
              "    <path d=\"M18.56 5.44l.94 2.06.94-2.06 2.06-.94-2.06-.94-.94-2.06-.94 2.06-2.06.94zm-11 1L8.5 8.5l.94-2.06 2.06-.94-2.06-.94L8.5 2.5l-.94 2.06-2.06.94zm10 10l.94 2.06.94-2.06 2.06-.94-2.06-.94-.94-2.06-.94 2.06-2.06.94z\"/><path d=\"M17.41 7.96l-1.37-1.37c-.4-.4-.92-.59-1.43-.59-.52 0-1.04.2-1.43.59L10.3 9.45l-7.72 7.72c-.78.78-.78 2.05 0 2.83L4 21.41c.39.39.9.59 1.41.59.51 0 1.02-.2 1.41-.59l7.78-7.78 2.81-2.81c.8-.78.8-2.07 0-2.86zM5.41 20L4 18.59l7.72-7.72 1.47 1.35L5.41 20z\"/>\n",
              "  </svg>\n",
              "      </button>\n",
              "      \n",
              "  <style>\n",
              "    .colab-df-container {\n",
              "      display:flex;\n",
              "      flex-wrap:wrap;\n",
              "      gap: 12px;\n",
              "    }\n",
              "\n",
              "    .colab-df-convert {\n",
              "      background-color: #E8F0FE;\n",
              "      border: none;\n",
              "      border-radius: 50%;\n",
              "      cursor: pointer;\n",
              "      display: none;\n",
              "      fill: #1967D2;\n",
              "      height: 32px;\n",
              "      padding: 0 0 0 0;\n",
              "      width: 32px;\n",
              "    }\n",
              "\n",
              "    .colab-df-convert:hover {\n",
              "      background-color: #E2EBFA;\n",
              "      box-shadow: 0px 1px 2px rgba(60, 64, 67, 0.3), 0px 1px 3px 1px rgba(60, 64, 67, 0.15);\n",
              "      fill: #174EA6;\n",
              "    }\n",
              "\n",
              "    [theme=dark] .colab-df-convert {\n",
              "      background-color: #3B4455;\n",
              "      fill: #D2E3FC;\n",
              "    }\n",
              "\n",
              "    [theme=dark] .colab-df-convert:hover {\n",
              "      background-color: #434B5C;\n",
              "      box-shadow: 0px 1px 3px 1px rgba(0, 0, 0, 0.15);\n",
              "      filter: drop-shadow(0px 1px 2px rgba(0, 0, 0, 0.3));\n",
              "      fill: #FFFFFF;\n",
              "    }\n",
              "  </style>\n",
              "\n",
              "      <script>\n",
              "        const buttonEl =\n",
              "          document.querySelector('#df-e57fe4e7-8d7e-4f40-a725-cf7a043c043e button.colab-df-convert');\n",
              "        buttonEl.style.display =\n",
              "          google.colab.kernel.accessAllowed ? 'block' : 'none';\n",
              "\n",
              "        async function convertToInteractive(key) {\n",
              "          const element = document.querySelector('#df-e57fe4e7-8d7e-4f40-a725-cf7a043c043e');\n",
              "          const dataTable =\n",
              "            await google.colab.kernel.invokeFunction('convertToInteractive',\n",
              "                                                     [key], {});\n",
              "          if (!dataTable) return;\n",
              "\n",
              "          const docLinkHtml = 'Like what you see? Visit the ' +\n",
              "            '<a target=\"_blank\" href=https://colab.research.google.com/notebooks/data_table.ipynb>data table notebook</a>'\n",
              "            + ' to learn more about interactive tables.';\n",
              "          element.innerHTML = '';\n",
              "          dataTable['output_type'] = 'display_data';\n",
              "          await google.colab.output.renderOutput(dataTable, element);\n",
              "          const docLink = document.createElement('div');\n",
              "          docLink.innerHTML = docLinkHtml;\n",
              "          element.appendChild(docLink);\n",
              "        }\n",
              "      </script>\n",
              "    </div>\n",
              "  </div>\n",
              "  "
            ]
          },
          "metadata": {},
          "execution_count": 5
        }
      ],
      "source": [
        "import re\n",
        "\n",
        "#Removing duplicates including retweets and quotations\n",
        "\n",
        "df['text'] = df['text'].apply(lambda x: re.sub(r'RT (@.*?)[\\s]', '', x) )\n",
        "df['text'] = df['text'].apply(lambda x: re.sub(r'\\\"RT ', '', x))\n",
        "df['text'] = df['text'].apply(lambda x: re.sub(r'RT ', '', x) if (x.find(\"RT \") == 0) else x)\n",
        "df['text'] = df['text'].apply(lambda x: re.sub(r'QT |\\\"QT ', '', x) if (x.find(\"QT \") == 0 or x.find(\"QT \") == 1 ) else x)\n",
        "df['text'] = df['text'].apply(lambda x: re.sub(r'(@.*?)[\\s]', '', x) if (x.find(\"@\") == 0) else x )\n",
        "\n",
        "df.drop_duplicates(keep=False,inplace=True)\n",
        "df"
      ]
    },
    {
      "cell_type": "code",
      "source": [
        "import seaborn as sns\n",
        "from matplotlib import rcParams\n",
        "rcParams['figure.figsize'] = 12, 8\n",
        "sns.set(style='whitegrid', palette='rocket', font_scale=1.2)\n",
        "\n",
        "sns.countplot(df.label)\n",
        "plt.xlabel('labels')\n"
      ],
      "metadata": {
        "id": "PXcvHBYZmIOb",
        "outputId": "e6f685c6-ae81-496f-80b6-99442c166ff6",
        "colab": {
          "base_uri": "https://localhost:8080/",
          "height": 581
        }
      },
      "execution_count": 6,
      "outputs": [
        {
          "output_type": "stream",
          "name": "stderr",
          "text": [
            "/usr/local/lib/python3.7/dist-packages/seaborn/_decorators.py:43: FutureWarning: Pass the following variable as a keyword arg: x. From version 0.12, the only valid positional argument will be `data`, and passing other arguments without an explicit keyword will result in an error or misinterpretation.\n",
            "  FutureWarning\n"
          ]
        },
        {
          "output_type": "execute_result",
          "data": {
            "text/plain": [
              "Text(0.5, 0, 'labels')"
            ]
          },
          "metadata": {},
          "execution_count": 6
        },
        {
          "output_type": "display_data",
          "data": {
            "text/plain": [
              "<Figure size 864x576 with 1 Axes>"
            ],
            "image/png": "[encoded data removed]"
          },
          "metadata": {}
        }
      ]
    },
    {
      "cell_type": "code",
      "execution_count": 9,
      "metadata": {
        "id": "E3eAorweCsdv"
      },
      "outputs": [],
      "source": [
        "# balance the classes\n",
        "\n",
        "class_1,class_2,class_0 = df.label.value_counts()\n",
        "c0 = df[df['label'] == 0]\n",
        "c2 = df[df['label'] == 2]\n",
        "c1 = df[df['label'] == 1]\n",
        "\n",
        "df_1 = c1.sample(class_0 + 1500)\n",
        "df_2 = c2.sample(class_0)\n",
        "undersampled_df = pd.concat([df_1,df_2,c0],axis=0)\n",
        "\n",
        "df = undersampled_df.sample(frac=1, ignore_index = True)"
      ]
    },
    {
      "cell_type": "code",
      "execution_count": 8,
      "metadata": {
        "colab": {
          "base_uri": "https://localhost:8080/",
          "height": 562
        },
        "id": "PTr2NwDf3UIq",
        "outputId": "ab31c850-4995-42eb-cfce-25ee1bdf8ff3"
      },
      "outputs": [
        {
          "output_type": "stream",
          "name": "stderr",
          "text": [
            "/usr/local/lib/python3.7/dist-packages/seaborn/_decorators.py:43: FutureWarning: Pass the following variable as a keyword arg: x. From version 0.12, the only valid positional argument will be `data`, and passing other arguments without an explicit keyword will result in an error or misinterpretation.\n",
            "  FutureWarning\n"
          ]
        },
        {
          "output_type": "display_data",
          "data": {
            "text/plain": [
              "<Figure size 864x576 with 1 Axes>"
            ],
            "image/png": "[encoded data removed]"
          },
          "metadata": {}
        }
      ],
      "source": [
        "\n",
        "sns.countplot(df.label)\n",
        "plt.xlabel('labels');\n"
      ]
    },
    {
      "cell_type": "code",
      "execution_count": 12,
      "metadata": {
        "id": "o66CJq3FCxpw"
      },
      "outputs": [],
      "source": [
        "def text_preprocessing(text):\n",
        "\n",
        "    import re\n",
        "\n",
        "    text = re.sub(r'\\\\(?!u)','',text)\n",
        "\n",
        "    # Remove em dash\n",
        "    text = re.sub(r'—|—', ' ', text)\n",
        "\n",
        "    # Remove all occurances of \"\n",
        "    text = re.sub(r'\\\"|“|”|…',\" \",text)\n",
        "   \n",
        "    # Remove emoticons and emojis\n",
        "\n",
        "    text = re.sub(r':P|:-P|😂|🤣',' joking ',text)\n",
        "\n",
        "    text = re.sub(r'<3|< 3|❤️|💖|😍|💕|😘|💕|💝|💗|💜|💙|🖤|💚|💛|🤍',' love ', text) \n",
        "\n",
        "    text = re.sub(r'[😁😃😄😆😊😸😺😊😀😋🥰☺️]','  Happy . ', text)\n",
        "    text = re.sub(r'(:\\s?\\)|:-\\)|\\(\\s?:|\\(-:|:\\'\\))','  Happy . ', text)\n",
        "    text = re.sub(r'(:\\s?D|:-?D|x-?D)','  Happy . ', text)\n",
        "\n",
        "\n",
        "    text = re.sub(r'[😥😣😓😔😕☹️🙁😖😞😟😢😭😩😵😡😿😫🤢😨😱]','  Sad . ', text)\n",
        "    text = re.sub(r'(:\\(|:-\\(|\\):|\\)-:)','  Sad . ', text)\n",
        "    text = re.sub(r'(:,\\(|:\\'\\(|:\"\\()','  Sad . ', text)\n",
        "\n",
        "    # Remove every pther emoji\n",
        "    text = re.sub('[\\U0001F600-\\U0001FFFF]',\" \", text)\n",
        "    text = re.sub('[\\U0001F300-\\U0001F5FF]',\" \", text)\n",
        "    \n",
        "    # Codecs\n",
        "    text = re.sub(r'\\\\(?!u)','',text)\n",
        "    import codecs\n",
        "    text = codecs.unicode_escape_decode(text)[0]\n",
        "\n",
        "    #remove @usermentions\n",
        "    text = re.sub(r'(@.*?)[\\s]', ' ', text)\n",
        "\n",
        "    # Remove URLs\n",
        "    text = re.sub(r'((https?://[^\\s]+)|(www\\.[^\\s]+))','',text)\n",
        "\n",
        "    # Replace '&amp;' with '&'\n",
        "    text = re.sub(r'&amp;', '&', text)\n",
        "    \n",
        "    # Remove hash (#) symbol\n",
        "    text = re.sub(r'#', ' ', text).strip()\n",
        "\n",
        "    # Remove trailing dots\n",
        "    text= re.sub(\"[.]+\", \". \",text)    \n",
        "\n",
        "    # Remove trailing whitespace\n",
        "    text = re.sub(r'\\s+', ' ', text).strip()\n",
        "\n",
        "    return text"
      ]
    },
    {
      "cell_type": "code",
      "source": [
        "text_preprocessing(\"@traitor_thot The novel coronavirus got her... 😔\")"
      ],
      "metadata": {
        "colab": {
          "base_uri": "https://localhost:8080/",
          "height": 36
        },
        "id": "5eyFC1XSpJG8",
        "outputId": "a3b0b659-04b6-4f94-9b46-85b9e2140d0a"
      },
      "execution_count": 13,
      "outputs": [
        {
          "output_type": "execute_result",
          "data": {
            "text/plain": [
              "'The novel coronavirus got her. Sad .'"
            ],
            "application/vnd.google.colaboratory.intrinsic+json": {
              "type": "string"
            }
          },
          "metadata": {},
          "execution_count": 13
        }
      ]
    },
    {
      "cell_type": "code",
      "source": [
        "text_preprocessing(\"#TaiwanCanHelp Feeling😱😰after reading this, 😷 \\\" As Wuhan Virus Spreads, Taiwan Has No Say at WHO. Chinese pressure keeps Taipei out of international organizations—putting everyone at more risk.\\\"😷 https://t.co/DRSW0fvbiU https://t.co/7JJi2ltIxl\")"
      ],
      "metadata": {
        "colab": {
          "base_uri": "https://localhost:8080/",
          "height": 36
        },
        "id": "Aw2xqxFhpRCM",
        "outputId": "48f815ea-7207-42a7-ed93-03676924bce7"
      },
      "execution_count": 14,
      "outputs": [
        {
          "output_type": "execute_result",
          "data": {
            "text/plain": [
              "'TaiwanCanHelp Feeling Sad . after reading this, As Wuhan Virus Spreads, Taiwan Has No Say at WHO. Chinese pressure keeps Taipei out of international organizations putting everyone at more risk.'"
            ],
            "application/vnd.google.colaboratory.intrinsic+json": {
              "type": "string"
            }
          },
          "metadata": {},
          "execution_count": 14
        }
      ]
    },
    {
      "cell_type": "markdown",
      "source": [
        "*Splitting* data to train, validation, and test"
      ],
      "metadata": {
        "id": "xLSqp--qCdfW"
      }
    },
    {
      "cell_type": "code",
      "execution_count": 17,
      "metadata": {
        "id": "Jqr0tgaqFppT"
      },
      "outputs": [],
      "source": [
        "from sklearn.model_selection import train_test_split\n",
        "\n",
        "X = df.text.values\n",
        "y = df.label.values\n",
        "\n",
        "# Train: 80% Test: 20%\n",
        "df_train, df_test = train_test_split(\n",
        "  df,\n",
        "  test_size=0.2,\n",
        "  random_state=42\n",
        ")\n",
        "\n",
        "# Test: 50% Validation: 50%\n",
        "df_val, df_test = train_test_split(\n",
        "  df_test,\n",
        "  test_size=0.5,\n",
        "  random_state=42\n",
        ")"
      ]
    },
    {
      "cell_type": "code",
      "execution_count": 18,
      "metadata": {
        "id": "kFPpgNf1Fcr5"
      },
      "outputs": [],
      "source": [
        "X_train = df_train['text'].to_numpy()\n",
        "X_val = df_val['text'].to_numpy()\n",
        "\n",
        "y_train = df_train['label'].to_numpy()\n",
        "y_val = df_val['label'].to_numpy()\n",
        "\n",
        "y_test = df_test['label'].to_numpy()"
      ]
    },
    {
      "cell_type": "markdown",
      "source": [
        "### Connecting to *GPU*"
      ],
      "metadata": {
        "id": "_xM5BfWJCo8c"
      }
    },
    {
      "cell_type": "code",
      "execution_count": 19,
      "metadata": {
        "colab": {
          "base_uri": "https://localhost:8080/"
        },
        "id": "5trbTzqYLt30",
        "outputId": "c8775fd0-31d4-4452-b26b-61b0e294305d"
      },
      "outputs": [
        {
          "output_type": "stream",
          "name": "stdout",
          "text": [
            "There are 1 GPU(s) available.\n",
            "Device name: Tesla T4\n"
          ]
        }
      ],
      "source": [
        "import torch\n",
        "\n",
        "if torch.cuda.is_available():       \n",
        "    device = torch.device(\"cuda\")\n",
        "    print(f'There are {torch.cuda.device_count()} GPU(s) available.')\n",
        "    print('Device name:', torch.cuda.get_device_name(0))\n",
        "\n",
        "else:\n",
        "    print('No GPU available, using the CPU instead.')\n",
        "    device = torch.device(\"cpu\")"
      ]
    },
    {
      "cell_type": "markdown",
      "source": [
        "### BERT"
      ],
      "metadata": {
        "id": "t_L8sYWsCu6B"
      }
    },
    {
      "cell_type": "markdown",
      "source": [
        "Tokenizer"
      ],
      "metadata": {
        "id": "HRNKYV9zC75j"
      }
    },
    {
      "cell_type": "code",
      "execution_count": 20,
      "metadata": {
        "id": "qrdEXyEEDR2t",
        "outputId": "1df9dfd9-6479-4f6e-a883-1871c6e6b6a1",
        "colab": {
          "base_uri": "https://localhost:8080/",
          "height": 113,
          "referenced_widgets": [
            "a8a062ed231e4a0daf3f41c470c23b3b",
            "1069a16a29f04d56951b7a3d01150707",
            "e465bdc6d7b346cb8522acbeff9cefd3",
            "e4bc0477876342faac0df63f9fa303ce",
            "b429ee056980477ab621c2ae950aca7f",
            "00372b91338b4dbbbd231fb02fb61fa1",
            "765632c58ee44919a89bd2a542cb80da",
            "f9098bcf9e774f26894e9d2a672c4a3c",
            "c7e928052f2f47a1b83026e6fdcb224a",
            "330820ecf7c34b128f9b2e83a8412e2a",
            "9f7dc654b9cb4799926c5a93c781159f",
            "1d0287541cb54fc993db00f9b987fbc3",
            "46e59d7920fc406b9f3cbcff6ba5e141",
            "0509afd5dd2b461ea2e9f827a69d529a",
            "36931e3d18df40e4bcbbeb9998b0884b",
            "349f0f7a50694aa3a4417bc721738750",
            "527db8917b9244b08c4a351c5aeddcec",
            "91ae3fcd960f4e178ea31183bbc0fc77",
            "d6226210893942628dcd773c47b28fbf",
            "f44316f1b50c447f8b70492acb049e1e",
            "60c8b82b83504d2495a21bd6cf1fe403",
            "3adad464c0d4424cba51936e8b61fb17",
            "20c081492ba74d22895f3f20d9135451",
            "79240864f44549cd90365eba5006613f",
            "933e00a9ac5d4c39a3fd18020e0790e1",
            "0877fc1a21694589bd38230e3db012fb",
            "6ef711ca8e3d4815886045fe85338be2",
            "82513b3e807b44b5851f6a478d1369e6",
            "a86fe9a63b18453cb975bef570150acc",
            "be072f8e70b346a4ac6b40ed71034522",
            "fc6da1d47e2b43c08bde6bee6aa517ad",
            "47e3880d747f44bb9effddb716b0764c",
            "42e10351fad546ca9596c892e1d9e044"
          ]
        }
      },
      "outputs": [
        {
          "output_type": "display_data",
          "data": {
            "text/plain": [
              "Downloading:   0%|          | 0.00/208k [00:00<?, ?B/s]"
            ],
            "application/vnd.jupyter.widget-view+json": {
              "version_major": 2,
              "version_minor": 0,
              "model_id": "a8a062ed231e4a0daf3f41c470c23b3b"
            }
          },
          "metadata": {}
        },
        {
          "output_type": "display_data",
          "data": {
            "text/plain": [
              "Downloading:   0%|          | 0.00/29.0 [00:00<?, ?B/s]"
            ],
            "application/vnd.jupyter.widget-view+json": {
              "version_major": 2,
              "version_minor": 0,
              "model_id": "1d0287541cb54fc993db00f9b987fbc3"
            }
          },
          "metadata": {}
        },
        {
          "output_type": "display_data",
          "data": {
            "text/plain": [
              "Downloading:   0%|          | 0.00/570 [00:00<?, ?B/s]"
            ],
            "application/vnd.jupyter.widget-view+json": {
              "version_major": 2,
              "version_minor": 0,
              "model_id": "20c081492ba74d22895f3f20d9135451"
            }
          },
          "metadata": {}
        }
      ],
      "source": [
        "# Load the BERT tokenizer\n",
        "\n",
        "from transformers import BertTokenizer\n",
        "tokenizer = BertTokenizer.from_pretrained('bert-base-cased')"
      ]
    },
    {
      "cell_type": "code",
      "execution_count": 21,
      "metadata": {
        "colab": {
          "base_uri": "https://localhost:8080/"
        },
        "id": "pacmJRKQH0ki",
        "outputId": "995b0693-5984-425e-fb04-f71802e66fcd"
      },
      "outputs": [
        {
          "output_type": "stream",
          "name": "stdout",
          "text": [
            "Max length:  79\n"
          ]
        }
      ],
      "source": [
        "# Concatenate all train data and test data\n",
        "all_tweets = df.text.values\n",
        "\n",
        "# Encode our concatenated data\n",
        "encoded_tweets = [tokenizer.encode(text_preprocessing(sent), add_special_tokens=True) for sent in all_tweets]\n",
        "\n",
        "# Find the maximum length\n",
        "\n",
        "max_len = max([len(sent) for sent in encoded_tweets])\n",
        "print('Max length: ', max_len)"
      ]
    },
    {
      "cell_type": "code",
      "execution_count": 22,
      "metadata": {
        "id": "W9RrWs1hH_fZ"
      },
      "outputs": [],
      "source": [
        "# Specify max length to trancuate/pad to\n",
        "MAX_LEN = 85 \n",
        "\n",
        "# Create a function to tokenize a set of texts\n",
        "def preprocessing_for_bert(data):\n",
        "    \"\"\"Preprocessing steps for pretrained BERT.\n",
        "    @param    data (np.array): Array of texts to be processed.\n",
        "    @return   input_ids (torch.Tensor): Tensor of token ids to be fed to a model.\n",
        "    @return   attention_masks (torch.Tensor): Tensor of indices specifying which\n",
        "                  tokens should be attended to by the model.\n",
        "    \"\"\"\n",
        "    # Create empty lists to store outputs\n",
        "    input_ids = []\n",
        "    attention_masks = []\n",
        "\n",
        "    # For every sentence...\n",
        "    for sent in data:\n",
        "\n",
        "        # encode_plus will:\n",
        "        #    (1) Tokenize the sentence\n",
        "        #    (2) Add the `[CLS]` and `[SEP]` token to the start and end\n",
        "        #    (3) Truncate/Pad sentence to max length\n",
        "        #    (4) Map tokens to their IDs\n",
        "        #    (5) Create attention mask\n",
        "        #    (6) Return a dictionary of outputs\n",
        "        encoded_sent = tokenizer.encode_plus(\n",
        "            text_preprocessing(r\"\"+sent),   # Preprocess sentence\n",
        "            add_special_tokens=True,        # Add `[CLS]` and `[SEP]`\n",
        "            max_length=MAX_LEN,             # Max length to truncate/pad\n",
        "            pad_to_max_length=True,         # Pad sentence to max length\n",
        "            return_attention_mask=True,     # Return attention mask\n",
        "            \n",
        "            )\n",
        "        \n",
        "        # Add the outputs to the lists\n",
        "        input_ids.append(encoded_sent.get('input_ids'))\n",
        "        attention_masks.append(encoded_sent.get('attention_mask'))\n",
        "\n",
        "    # Convert lists to tensors\n",
        "    input_ids = torch.tensor(input_ids)\n",
        "    attention_masks = torch.tensor(attention_masks)\n",
        "\n",
        "    return input_ids, attention_masks"
      ]
    },
    {
      "cell_type": "code",
      "execution_count": 23,
      "metadata": {
        "colab": {
          "base_uri": "https://localhost:8080/"
        },
        "id": "ot0WxbeVLzXR",
        "outputId": "ea28801a-2a96-481b-bc36-ad60f03b27a1"
      },
      "outputs": [
        {
          "output_type": "stream",
          "name": "stderr",
          "text": [
            "Truncation was not explicitly activated but `max_length` is provided a specific value, please use `truncation=True` to explicitly truncate examples to max length. Defaulting to 'longest_first' truncation strategy. If you encode pairs of sequences (GLUE-style) with the tokenizer you can select this strategy more precisely by providing a specific strategy to `truncation`.\n"
          ]
        },
        {
          "output_type": "stream",
          "name": "stdout",
          "text": [
            "Tokenizing data...\n"
          ]
        },
        {
          "output_type": "stream",
          "name": "stderr",
          "text": [
            "/usr/local/lib/python3.7/dist-packages/transformers/tokenization_utils_base.py:2307: FutureWarning: The `pad_to_max_length` argument is deprecated and will be removed in a future version, use `padding=True` or `padding='longest'` to pad to the longest sequence in the batch, or use `padding='max_length'` to pad to a max length. In this case, you can give a specific length with `max_length` (e.g. `max_length=45`) or leave max_length to None to pad to the maximal input size of the model (e.g. 512 for Bert).\n",
            "  FutureWarning,\n"
          ]
        }
      ],
      "source": [
        "# Run function `preprocessing_for_bert` on the data\n",
        "\n",
        "print('Tokenizing data...')\n",
        "\n",
        "train_inputs, train_masks = preprocessing_for_bert(X_train)\n",
        "val_inputs, val_masks = preprocessing_for_bert(X_val)\n",
        "test_inputs, test_masks = preprocessing_for_bert(df_test.text)"
      ]
    },
    {
      "cell_type": "markdown",
      "source": [
        "PyTorch Dataloader"
      ],
      "metadata": {
        "id": "gupprHl7DBXA"
      }
    },
    {
      "cell_type": "code",
      "execution_count": 24,
      "metadata": {
        "id": "pB_JYUQN1Mjt"
      },
      "outputs": [],
      "source": [
        "from torch.utils.data import TensorDataset, DataLoader, RandomSampler, SequentialSampler\n",
        "\n",
        "# Convert other data types to torch.Tensor\n",
        "\n",
        "train_labels = torch.tensor(y_train)\n",
        "val_labels = torch.tensor(y_val)\n",
        "test_labels = torch.tensor(y_test)\n",
        "\n",
        "# For fine-tuning BERT, the authors recommend a batch size of 16 or 32.\n",
        "batch_size = 16\n",
        "\n",
        "# Create the DataLoader for our training set\n",
        "train_data = TensorDataset(train_inputs, train_masks, train_labels)\n",
        "train_dataloader = DataLoader(train_data, batch_size=batch_size)\n",
        "\n",
        "# Create the DataLoader for our validation set\n",
        "val_data = TensorDataset(val_inputs, val_masks, val_labels)\n",
        "val_dataloader = DataLoader(val_data, batch_size=batch_size)\n",
        "\n",
        "# Create the DataLoader for our test set\n",
        "test_dataset = TensorDataset(test_inputs, test_masks,test_labels)\n",
        "test_sampler = SequentialSampler(test_dataset)\n",
        "test_dataloader = DataLoader(test_dataset, sampler=test_sampler, batch_size=batch_size)"
      ]
    },
    {
      "cell_type": "markdown",
      "source": [
        "BERT Classifier architecture"
      ],
      "metadata": {
        "id": "rUgDI1KWDEKx"
      }
    },
    {
      "cell_type": "code",
      "execution_count": 25,
      "metadata": {
        "colab": {
          "base_uri": "https://localhost:8080/"
        },
        "id": "xgph5Ja54Xrw",
        "outputId": "fa556242-60cc-4d03-f46f-e360f3fe71dd"
      },
      "outputs": [
        {
          "output_type": "stream",
          "name": "stdout",
          "text": [
            "CPU times: user 25.3 ms, sys: 1.01 ms, total: 26.3 ms\n",
            "Wall time: 28 ms\n"
          ]
        }
      ],
      "source": [
        "%%time\n",
        "import torch\n",
        "import torch.nn as nn\n",
        "from transformers import BertModel\n",
        "\n",
        "# Create the BertClassfier class\n",
        "\n",
        "# BERT-base consists of 12 transformer layers, each transformer layer takes in a list of token embeddings, and produces the same number of embeddings with the same hidden size on the output. \n",
        "# The output of the final transformer layer of the [CLS] token is used as the features of the sequence to feed a classifier.\n",
        "# We create a single-hidden-layer feed-forward neural network with 0.3 dropout as our classifier.\n",
        "\n",
        "class BertClassifier(nn.Module):\n",
        "    \"\"\"Bert Model for Classification Tasks.\n",
        "    \"\"\"\n",
        "    def __init__(self, freeze_bert=False):\n",
        "        \"\"\"\n",
        "        @param    bert: a BertModel object\n",
        "        @param    classifier: a torch.nn.Module classifier\n",
        "        @param    freeze_bert (bool): Set `False` to fine-tune the BERT model\n",
        "        \"\"\"\n",
        "        super(BertClassifier, self).__init__()\n",
        "        # Specify hidden size of BERT, hidden size of our classifier, and number of labels\n",
        "        D_in, H, D_out = 768, 50, 3\n",
        "\n",
        "        # Instantiate BERT model\n",
        "        self.bert = BertModel.from_pretrained('bert-base-cased',return_dict=False)\n",
        "\n",
        "        # Instantiate an one-layer feed-forward classifier\n",
        "        self.classifier = nn.Sequential(\n",
        "            nn.Linear(D_in, H),\n",
        "            nn.ReLU(),\n",
        "            nn.Dropout(0.3),\n",
        "            nn.Linear(H, D_out)\n",
        "        )\n",
        "\n",
        "\n",
        "    def forward(self, input_ids, attention_mask):\n",
        "        \"\"\"\n",
        "        Feed input to BERT and the classifier to compute logits.\n",
        "        @param    input_ids (torch.Tensor): an input tensor with shape (batch_size,\n",
        "                      max_length)\n",
        "        @param    attention_mask (torch.Tensor): a tensor that hold attention mask\n",
        "                      information with shape (batch_size, max_length)\n",
        "        @return   logits (torch.Tensor): an output tensor with shape (batch_size,\n",
        "                      num_labels)\n",
        "        \"\"\"\n",
        "        # Feed input to BERT\n",
        "        outputs = self.bert(\n",
        "            input_ids=input_ids,\n",
        "            attention_mask=attention_mask,\n",
        "            return_dict=False)\n",
        "        \n",
        "        # Extract the last hidden state of the token `[CLS]` for classification task\n",
        "        last_hidden_state_cls = outputs[0][:, 0, :]\n",
        "\n",
        "        # Feed input to classifier to compute logits\n",
        "        logits = self.classifier(last_hidden_state_cls)\n",
        "\n",
        "        return logits"
      ]
    },
    {
      "cell_type": "markdown",
      "source": [
        "Optimizer & Learning Rate Scheduler"
      ],
      "metadata": {
        "id": "RYRGQ48BDOP-"
      }
    },
    {
      "cell_type": "code",
      "execution_count": 26,
      "metadata": {
        "id": "WrrdkNlB41GX"
      },
      "outputs": [],
      "source": [
        "from transformers import AdamW, get_linear_schedule_with_warmup\n",
        "\n",
        "def initialize_model(epochs):\n",
        "    \"\"\"Initialize the Bert Classifier, the optimizer and the learning rate scheduler.\n",
        "    \"\"\"\n",
        "    # Instantiate Bert Classifier\n",
        "    bert_classifier = BertClassifier(freeze_bert=False)\n",
        "\n",
        "    # Tell PyTorch to run the model on GPU\n",
        "    bert_classifier.to(device)\n",
        "\n",
        "    # Create the optimizer\n",
        "    optimizer = AdamW(bert_classifier.parameters(),\n",
        "                      lr=1e-5,    # BERT paper recommends 2e-5 or 3e-5 or 5e-5, but we tested with 1e-5 as well\n",
        "                      eps=1e-8 \n",
        "                      )\n",
        "\n",
        "    # Total number of training steps\n",
        "    total_steps = len(train_dataloader) * epochs\n",
        "\n",
        "    # Set up the learning rate scheduler\n",
        "    scheduler = get_linear_schedule_with_warmup(optimizer,\n",
        "                                                num_warmup_steps=0, # Default value\n",
        "                                                num_training_steps=total_steps)\n",
        "    return bert_classifier, optimizer, scheduler"
      ]
    },
    {
      "cell_type": "markdown",
      "source": [
        "Training Loop"
      ],
      "metadata": {
        "id": "pm_lXVxzDXIv"
      }
    },
    {
      "cell_type": "code",
      "source": [
        "epoch_number = 3"
      ],
      "metadata": {
        "id": "XCj5PWHnDV3M"
      },
      "execution_count": 27,
      "outputs": []
    },
    {
      "cell_type": "code",
      "execution_count": 28,
      "metadata": {
        "id": "ZX91ABjv5EwZ"
      },
      "outputs": [],
      "source": [
        "import random\n",
        "import time\n",
        "\n",
        "# Specify loss function\n",
        "loss_fn = nn.CrossEntropyLoss()\n",
        "\n",
        "def set_seed(seed_value=42):\n",
        "    \"\"\"Set seed for reproducibility.\n",
        "    \"\"\"\n",
        "    random.seed(seed_value)\n",
        "    np.random.seed(seed_value)\n",
        "    torch.manual_seed(seed_value)\n",
        "    torch.cuda.manual_seed_all(seed_value)\n"
      ]
    },
    {
      "cell_type": "markdown",
      "source": [
        "Training:\n",
        "\n",
        "* Unpack our data from the dataloader and load the data onto the GPU\n",
        "* Zero out gradients calculated in the previous pass\n",
        "* Perform a forward pass to compute logits and loss\n",
        "* Perform a backward pass to compute gradients (loss.backward())\n",
        "* Clip the norm of the gradients to 1.0 to prevent “exploding gradients”\n",
        "* Update the model’s parameters (optimizer.step())\n",
        "* Update the learning rate (scheduler.step())"
      ],
      "metadata": {
        "id": "WT7ljYZ_Dd8a"
      }
    },
    {
      "cell_type": "code",
      "source": [
        "\n",
        "def train(model, train_dataloader, val_dataloader=None, epochs=4, evaluation=False):\n",
        "    \"\"\"Train the BertClassifier model.    \"\"\"\n",
        "    # Start training loop\n",
        "    print(\"Start training...\\n\")\n",
        "    for epoch_i in range(epochs):\n",
        "        #               Training\n",
        "\n",
        "        # Print the header of the result table\n",
        "        print(f\"{'Epoch':^7} | {'Batch':^7} | {'Train Loss':^12} | {'Val Loss':^10} | {'Val Acc':^9} | {'Elapsed':^9}\")\n",
        "        print(\"-\"*70)\n",
        "\n",
        "        # Measure the elapsed time of each epoch\n",
        "        t0_epoch, t0_batch = time.time(), time.time()\n",
        "\n",
        "        # Reset tracking variables at the beginning of each epoch\n",
        "        total_loss, batch_loss, batch_counts = 0, 0, 0\n",
        "\n",
        "        # Put the model into the training mode\n",
        "        model.train()\n",
        "\n",
        "        # For each batch of training data...\n",
        "        for step, batch in enumerate(train_dataloader):\n",
        "            batch_counts +=1\n",
        "            # Load batch to GPU\n",
        "            b_input_ids, b_attn_mask, b_labels = tuple(t.to(device) for t in batch)\n",
        "\n",
        "            # Zero out any previously calculated gradients\n",
        "            model.zero_grad()\n",
        "\n",
        "            # Perform a forward pass. This will return logits.\n",
        "            logits = model(b_input_ids, b_attn_mask)\n",
        "\n",
        "            # Compute loss and accumulate the loss values\n",
        "            loss = loss_fn(logits, b_labels)\n",
        "            batch_loss += loss.item()\n",
        "            total_loss += loss.item()\n",
        "\n",
        "            # Perform a backward pass to calculate gradients\n",
        "            loss.backward()\n",
        "\n",
        "            # Clip the norm of the gradients to 1.0 to prevent \"exploding gradients\"\n",
        "            torch.nn.utils.clip_grad_norm_(model.parameters(), 1.0)\n",
        "\n",
        "            # Update parameters and the learning rate\n",
        "            optimizer.step()\n",
        "            scheduler.step()\n",
        "\n",
        "            # Print the loss values and time elapsed for every 20 batches\n",
        "            if (step % 20 == 0 and step != 0) or (step == len(train_dataloader) - 1):\n",
        "                # Calculate time elapsed for 20 batches\n",
        "                time_elapsed = time.time() - t0_batch\n",
        "\n",
        "                # Print training results\n",
        "                print(f\"{epoch_i + 1:^7} | {step:^7} | {batch_loss / batch_counts:^12.6f} | {'-':^10} | {'-':^9} | {time_elapsed:^9.2f}\")\n",
        "\n",
        "                # Reset batch tracking variables\n",
        "                batch_loss, batch_counts = 0, 0\n",
        "                t0_batch = time.time()\n",
        "\n",
        "        # Calculate the average loss over the entire training data\n",
        "        avg_train_loss = total_loss / len(train_dataloader)\n",
        "\n",
        "        print(\"-\"*70)\n",
        "        \n",
        "        #               Evaluation\n",
        "        if evaluation == True:\n",
        "            # After the completion of each training epoch, measure the model's performance\n",
        "            # on our validation set.\n",
        "            val_loss, val_accuracy = evaluate(model, val_dataloader)\n",
        "\n",
        "            # Print performance over the entire training data\n",
        "            time_elapsed = time.time() - t0_epoch\n",
        "            \n",
        "            print(f\"{epoch_i + 1:^7} | {'-':^7} | {avg_train_loss:^12.6f} | {val_loss:^10.6f} | {val_accuracy:^9.2f} | {time_elapsed:^9.2f}\")\n",
        "            print(\"-\"*70)\n",
        "        print(\"\\n\")\n",
        "    \n",
        "    print(\"Training complete!\")\n"
      ],
      "metadata": {
        "id": "MyvEEBzUUrbL"
      },
      "execution_count": 29,
      "outputs": []
    },
    {
      "cell_type": "markdown",
      "source": [
        "Evaluation:\n",
        "\n",
        "* Unpack our data and load onto the GPU\n",
        "* Forward pass\n",
        "* Compute loss and accuracy rate over the validation set"
      ],
      "metadata": {
        "id": "_oNqq5bvDpxA"
      }
    },
    {
      "cell_type": "code",
      "source": [
        "\n",
        "def evaluate(model, val_dataloader):\n",
        "    \"\"\"After the completion of each training epoch, measure the model's performance\n",
        "    on our validation set.\n",
        "    \"\"\"\n",
        "    # Put the model into the evaluation mode. The dropout layers are disabled during\n",
        "    # the test time.\n",
        "    model.eval()\n",
        "\n",
        "    # Tracking variables\n",
        "    val_accuracy = []\n",
        "    val_loss = []\n",
        "\n",
        "    # For each batch in our validation set...\n",
        "    for batch in val_dataloader:\n",
        "        # Load batch to GPU\n",
        "        b_input_ids, b_attn_mask, b_labels = tuple(t.to(device) for t in batch)\n",
        "\n",
        "        # Compute logits\n",
        "        with torch.no_grad():\n",
        "            logits = model(b_input_ids, b_attn_mask)\n",
        "\n",
        "        # Compute loss\n",
        "        loss = loss_fn(logits, b_labels)\n",
        "        val_loss.append(loss.item())\n",
        "\n",
        "        # Get the predictions\n",
        "        preds = torch.argmax(logits, dim=1).flatten()\n",
        "\n",
        "        # Calculate the accuracy rate\n",
        "        accuracy = (preds == b_labels).cpu().numpy().mean() * 100\n",
        "        val_accuracy.append(accuracy)\n",
        "\n",
        "    # Compute the average accuracy and loss over the validation set.\n",
        "    val_loss = np.mean(val_loss)\n",
        "    val_accuracy = np.mean(val_accuracy)\n",
        "\n",
        "    return val_loss, val_accuracy"
      ],
      "metadata": {
        "id": "ToSOYw0B4tqh"
      },
      "execution_count": 30,
      "outputs": []
    },
    {
      "cell_type": "markdown",
      "source": [
        "### **Training** ( fine-tuning )"
      ],
      "metadata": {
        "id": "7f5AAk7iDvbE"
      }
    },
    {
      "cell_type": "code",
      "execution_count": 31,
      "metadata": {
        "colab": {
          "base_uri": "https://localhost:8080/",
          "height": 160,
          "referenced_widgets": [
            "27a2d3884820459e95fe058b89a7d5ea",
            "1d24d87ad6864e66a7a1106ba2ab6390",
            "3d3f45fbf29948bb86a4294d09b57786",
            "fe3e0409926748d383f12b4c2a865a5c",
            "6709b1766d5b481890423c42486ecf08",
            "a976d3c3cf184716b9d7336116496991",
            "b965186f58d040f097eba6654ebad146",
            "0f7ee05a92814c0d9cdc58450d89c268",
            "5d51d3a566ed4f69a7201cf37b96567c",
            "79969b2ef8bc49a68f8d4506428d91f8",
            "a124bc03d6d6427093710457045f33a9"
          ]
        },
        "id": "1IfwTg1L5G-q",
        "outputId": "50ea9c26-e197-4dd3-e6de-2d108eaec140"
      },
      "outputs": [
        {
          "output_type": "display_data",
          "data": {
            "text/plain": [
              "Downloading:   0%|          | 0.00/416M [00:00<?, ?B/s]"
            ],
            "application/vnd.jupyter.widget-view+json": {
              "version_major": 2,
              "version_minor": 0,
              "model_id": "27a2d3884820459e95fe058b89a7d5ea"
            }
          },
          "metadata": {}
        },
        {
          "output_type": "stream",
          "name": "stderr",
          "text": [
            "Some weights of the model checkpoint at bert-base-cased were not used when initializing BertModel: ['cls.seq_relationship.bias', 'cls.predictions.transform.LayerNorm.weight', 'cls.predictions.transform.LayerNorm.bias', 'cls.predictions.decoder.weight', 'cls.seq_relationship.weight', 'cls.predictions.transform.dense.weight', 'cls.predictions.bias', 'cls.predictions.transform.dense.bias']\n",
            "- This IS expected if you are initializing BertModel from the checkpoint of a model trained on another task or with another architecture (e.g. initializing a BertForSequenceClassification model from a BertForPreTraining model).\n",
            "- This IS NOT expected if you are initializing BertModel from the checkpoint of a model that you expect to be exactly identical (initializing a BertForSequenceClassification model from a BertForSequenceClassification model).\n",
            "/usr/local/lib/python3.7/dist-packages/transformers/optimization.py:310: FutureWarning: This implementation of AdamW is deprecated and will be removed in a future version. Use the PyTorch implementation torch.optim.AdamW instead, or set `no_deprecation_warning=True` to disable this warning\n",
            "  FutureWarning,\n"
          ]
        }
      ],
      "source": [
        "set_seed()    # Set seed for reproducibility - default: 42\n",
        "bert_classifier, optimizer, scheduler = initialize_model(epochs=epoch_number)"
      ]
    },
    {
      "cell_type": "code",
      "execution_count": null,
      "metadata": {
        "colab": {
          "base_uri": "https://localhost:8080/"
        },
        "id": "whzpTMsb5X56",
        "outputId": "188fe97f-9b20-4836-c91c-8659fce7b6d5"
      },
      "outputs": [
        {
          "output_type": "stream",
          "name": "stdout",
          "text": [
            "Start training...\n",
            "\n",
            " Epoch  |  Batch  |  Train Loss  |  Val Loss  |  Val Acc  |  Elapsed \n",
            "----------------------------------------------------------------------\n",
            "   1    |   20    |   1.099823   |     -      |     -     |   5.41   \n",
            "   1    |   40    |   1.079144   |     -      |     -     |   5.17   \n",
            "   1    |   60    |   1.048377   |     -      |     -     |   5.24   \n",
            "   1    |   80    |   1.025588   |     -      |     -     |   5.26   \n",
            "   1    |   100   |   0.939539   |     -      |     -     |   5.32   \n",
            "   1    |   120   |   0.869716   |     -      |     -     |   5.38   \n",
            "   1    |   140   |   0.847265   |     -      |     -     |   5.42   \n",
            "   1    |   160   |   0.844194   |     -      |     -     |   5.43   \n",
            "   1    |   180   |   0.874926   |     -      |     -     |   5.41   \n",
            "   1    |   200   |   0.791333   |     -      |     -     |   5.36   \n",
            "   1    |   220   |   0.816237   |     -      |     -     |   5.31   \n",
            "   1    |   240   |   0.788080   |     -      |     -     |   5.28   \n",
            "   1    |   260   |   0.767887   |     -      |     -     |   5.25   \n",
            "   1    |   280   |   0.770972   |     -      |     -     |   5.24   \n",
            "   1    |   300   |   0.783620   |     -      |     -     |   5.23   \n",
            "   1    |   320   |   0.700860   |     -      |     -     |   5.22   \n",
            "   1    |   340   |   0.691500   |     -      |     -     |   5.24   \n",
            "   1    |   360   |   0.698979   |     -      |     -     |   5.26   \n",
            "   1    |   380   |   0.772991   |     -      |     -     |   5.28   \n",
            "   1    |   400   |   0.751382   |     -      |     -     |   5.30   \n",
            "   1    |   420   |   0.801939   |     -      |     -     |   5.31   \n",
            "   1    |   440   |   0.782262   |     -      |     -     |   5.32   \n",
            "   1    |   460   |   0.715327   |     -      |     -     |   5.32   \n",
            "   1    |   480   |   0.762334   |     -      |     -     |   5.32   \n",
            "   1    |   500   |   0.756834   |     -      |     -     |   5.31   \n",
            "   1    |   520   |   0.682734   |     -      |     -     |   5.30   \n",
            "   1    |   540   |   0.750441   |     -      |     -     |   5.30   \n",
            "   1    |   560   |   0.740409   |     -      |     -     |   5.28   \n",
            "   1    |   580   |   0.678739   |     -      |     -     |   5.28   \n",
            "   1    |   600   |   0.722739   |     -      |     -     |   5.29   \n",
            "   1    |   620   |   0.714764   |     -      |     -     |   5.29   \n",
            "   1    |   640   |   0.693209   |     -      |     -     |   5.29   \n",
            "   1    |   660   |   0.756850   |     -      |     -     |   5.29   \n",
            "   1    |   680   |   0.709908   |     -      |     -     |   5.27   \n",
            "   1    |   700   |   0.657446   |     -      |     -     |   5.29   \n",
            "   1    |   720   |   0.764854   |     -      |     -     |   5.29   \n",
            "   1    |   740   |   0.670649   |     -      |     -     |   5.31   \n",
            "   1    |   760   |   0.720783   |     -      |     -     |   5.30   \n",
            "   1    |   780   |   0.619988   |     -      |     -     |   5.30   \n",
            "   1    |   800   |   0.792447   |     -      |     -     |   5.31   \n",
            "   1    |   820   |   0.707645   |     -      |     -     |   5.30   \n",
            "   1    |   840   |   0.702080   |     -      |     -     |   5.30   \n",
            "   1    |   860   |   0.696957   |     -      |     -     |   5.31   \n",
            "   1    |   880   |   0.693656   |     -      |     -     |   5.29   \n",
            "   1    |   900   |   0.714244   |     -      |     -     |   5.29   \n",
            "   1    |   920   |   0.711043   |     -      |     -     |   5.29   \n",
            "   1    |   940   |   0.708248   |     -      |     -     |   5.28   \n",
            "   1    |   960   |   0.694313   |     -      |     -     |   5.28   \n",
            "   1    |   980   |   0.635022   |     -      |     -     |   5.28   \n",
            "   1    |  1000   |   0.741526   |     -      |     -     |   5.27   \n",
            "   1    |  1020   |   0.685568   |     -      |     -     |   5.28   \n",
            "   1    |  1040   |   0.739290   |     -      |     -     |   5.28   \n",
            "   1    |  1060   |   0.690347   |     -      |     -     |   5.28   \n",
            "   1    |  1080   |   0.673410   |     -      |     -     |   5.28   \n",
            "   1    |  1100   |   0.683365   |     -      |     -     |   5.28   \n",
            "   1    |  1120   |   0.649623   |     -      |     -     |   5.29   \n",
            "   1    |  1140   |   0.783501   |     -      |     -     |   5.29   \n",
            "   1    |  1160   |   0.672488   |     -      |     -     |   5.29   \n",
            "   1    |  1180   |   0.737944   |     -      |     -     |   5.28   \n",
            "   1    |  1200   |   0.602169   |     -      |     -     |   5.29   \n",
            "   1    |  1220   |   0.681209   |     -      |     -     |   5.28   \n",
            "   1    |  1240   |   0.689520   |     -      |     -     |   5.28   \n",
            "   1    |  1260   |   0.637349   |     -      |     -     |   5.28   \n",
            "   1    |  1280   |   0.651936   |     -      |     -     |   5.28   \n",
            "   1    |  1300   |   0.688784   |     -      |     -     |   5.28   \n",
            "   1    |  1320   |   0.654172   |     -      |     -     |   5.28   \n",
            "   1    |  1340   |   0.713363   |     -      |     -     |   5.29   \n",
            "   1    |  1360   |   0.615058   |     -      |     -     |   5.29   \n",
            "   1    |  1380   |   0.739740   |     -      |     -     |   5.29   \n",
            "   1    |  1400   |   0.694336   |     -      |     -     |   5.30   \n",
            "   1    |  1420   |   0.630240   |     -      |     -     |   5.30   \n",
            "   1    |  1440   |   0.700535   |     -      |     -     |   5.28   \n",
            "   1    |  1460   |   0.711524   |     -      |     -     |   5.29   \n",
            "   1    |  1480   |   0.718062   |     -      |     -     |   5.30   \n",
            "   1    |  1500   |   0.710090   |     -      |     -     |   5.29   \n",
            "   1    |  1520   |   0.658110   |     -      |     -     |   5.28   \n",
            "   1    |  1540   |   0.804950   |     -      |     -     |   5.31   \n",
            "   1    |  1560   |   0.649018   |     -      |     -     |   5.29   \n",
            "   1    |  1580   |   0.683138   |     -      |     -     |   5.29   \n",
            "   1    |  1600   |   0.674120   |     -      |     -     |   5.29   \n",
            "   1    |  1620   |   0.660864   |     -      |     -     |   5.28   \n",
            "   1    |  1640   |   0.694012   |     -      |     -     |   5.29   \n",
            "   1    |  1660   |   0.664395   |     -      |     -     |   5.29   \n",
            "   1    |  1680   |   0.700285   |     -      |     -     |   5.30   \n",
            "   1    |  1700   |   0.719539   |     -      |     -     |   5.29   \n",
            "   1    |  1720   |   0.651954   |     -      |     -     |   5.30   \n",
            "   1    |  1740   |   0.624242   |     -      |     -     |   5.28   \n",
            "   1    |  1760   |   0.675462   |     -      |     -     |   5.28   \n",
            "   1    |  1780   |   0.628066   |     -      |     -     |   5.14   \n",
            "----------------------------------------------------------------------\n",
            "   1    |    -    |   0.731708   |  0.618659  |   72.66   |  491.16  \n",
            "----------------------------------------------------------------------\n",
            "\n",
            "\n",
            " Epoch  |  Batch  |  Train Loss  |  Val Loss  |  Val Acc  |  Elapsed \n",
            "----------------------------------------------------------------------\n",
            "   2    |   20    |   0.650271   |     -      |     -     |   5.53   \n",
            "   2    |   40    |   0.629448   |     -      |     -     |   5.29   \n",
            "   2    |   60    |   0.601440   |     -      |     -     |   5.29   \n",
            "   2    |   80    |   0.669895   |     -      |     -     |   5.30   \n",
            "   2    |   100   |   0.569060   |     -      |     -     |   5.29   \n",
            "   2    |   120   |   0.614257   |     -      |     -     |   5.29   \n",
            "   2    |   140   |   0.602587   |     -      |     -     |   5.28   \n",
            "   2    |   160   |   0.623436   |     -      |     -     |   5.30   \n",
            "   2    |   180   |   0.625287   |     -      |     -     |   5.29   \n",
            "   2    |   200   |   0.584293   |     -      |     -     |   5.29   \n",
            "   2    |   220   |   0.595241   |     -      |     -     |   5.28   \n",
            "   2    |   240   |   0.561366   |     -      |     -     |   5.29   \n",
            "   2    |   260   |   0.575508   |     -      |     -     |   5.29   \n",
            "   2    |   280   |   0.540665   |     -      |     -     |   5.29   \n",
            "   2    |   300   |   0.565529   |     -      |     -     |   5.29   \n",
            "   2    |   320   |   0.512541   |     -      |     -     |   5.29   \n",
            "   2    |   340   |   0.512776   |     -      |     -     |   5.27   \n",
            "   2    |   360   |   0.593584   |     -      |     -     |   5.28   \n",
            "   2    |   380   |   0.585119   |     -      |     -     |   5.29   \n",
            "   2    |   400   |   0.620202   |     -      |     -     |   5.28   \n",
            "   2    |   420   |   0.607738   |     -      |     -     |   5.27   \n",
            "   2    |   440   |   0.621791   |     -      |     -     |   5.29   \n",
            "   2    |   460   |   0.549086   |     -      |     -     |   5.28   \n",
            "   2    |   480   |   0.610700   |     -      |     -     |   5.28   \n",
            "   2    |   500   |   0.561470   |     -      |     -     |   5.29   \n",
            "   2    |   520   |   0.490874   |     -      |     -     |   5.28   \n",
            "   2    |   540   |   0.620191   |     -      |     -     |   5.29   \n",
            "   2    |   560   |   0.569207   |     -      |     -     |   5.29   \n",
            "   2    |   580   |   0.538535   |     -      |     -     |   5.28   \n",
            "   2    |   600   |   0.536423   |     -      |     -     |   5.28   \n",
            "   2    |   620   |   0.553486   |     -      |     -     |   5.28   \n",
            "   2    |   640   |   0.542300   |     -      |     -     |   5.28   \n",
            "   2    |   660   |   0.567112   |     -      |     -     |   5.29   \n",
            "   2    |   680   |   0.538856   |     -      |     -     |   5.28   \n",
            "   2    |   700   |   0.489088   |     -      |     -     |   5.27   \n",
            "   2    |   720   |   0.596920   |     -      |     -     |   5.28   \n",
            "   2    |   740   |   0.500119   |     -      |     -     |   5.29   \n",
            "   2    |   760   |   0.527850   |     -      |     -     |   5.28   \n",
            "   2    |   780   |   0.470703   |     -      |     -     |   5.30   \n",
            "   2    |   800   |   0.630774   |     -      |     -     |   5.29   \n",
            "   2    |   820   |   0.564592   |     -      |     -     |   5.29   \n",
            "   2    |   840   |   0.517859   |     -      |     -     |   5.28   \n",
            "   2    |   860   |   0.561119   |     -      |     -     |   5.27   \n",
            "   2    |   880   |   0.538713   |     -      |     -     |   5.28   \n",
            "   2    |   900   |   0.607701   |     -      |     -     |   5.29   \n",
            "   2    |   920   |   0.549761   |     -      |     -     |   5.28   \n",
            "   2    |   940   |   0.592718   |     -      |     -     |   5.28   \n",
            "   2    |   960   |   0.563710   |     -      |     -     |   5.28   \n",
            "   2    |   980   |   0.519742   |     -      |     -     |   5.28   \n",
            "   2    |  1000   |   0.592857   |     -      |     -     |   5.28   \n",
            "   2    |  1020   |   0.581372   |     -      |     -     |   5.28   \n",
            "   2    |  1040   |   0.601433   |     -      |     -     |   5.29   \n",
            "   2    |  1060   |   0.555171   |     -      |     -     |   5.29   \n",
            "   2    |  1080   |   0.530759   |     -      |     -     |   5.29   \n",
            "   2    |  1100   |   0.504630   |     -      |     -     |   5.28   \n",
            "   2    |  1120   |   0.557084   |     -      |     -     |   5.28   \n",
            "   2    |  1140   |   0.647891   |     -      |     -     |   5.28   \n",
            "   2    |  1160   |   0.519627   |     -      |     -     |   5.28   \n",
            "   2    |  1180   |   0.601228   |     -      |     -     |   5.28   \n",
            "   2    |  1200   |   0.504286   |     -      |     -     |   5.29   \n",
            "   2    |  1220   |   0.516182   |     -      |     -     |   5.28   \n",
            "   2    |  1240   |   0.521735   |     -      |     -     |   5.28   \n",
            "   2    |  1260   |   0.518359   |     -      |     -     |   5.28   \n",
            "   2    |  1280   |   0.502718   |     -      |     -     |   5.28   \n",
            "   2    |  1300   |   0.538853   |     -      |     -     |   5.29   \n",
            "   2    |  1320   |   0.517876   |     -      |     -     |   5.29   \n",
            "   2    |  1340   |   0.597043   |     -      |     -     |   5.29   \n",
            "   2    |  1360   |   0.514981   |     -      |     -     |   5.30   \n",
            "   2    |  1380   |   0.576428   |     -      |     -     |   5.28   \n",
            "   2    |  1400   |   0.581045   |     -      |     -     |   5.28   \n",
            "   2    |  1420   |   0.508520   |     -      |     -     |   5.28   \n",
            "   2    |  1440   |   0.549660   |     -      |     -     |   5.30   \n",
            "   2    |  1460   |   0.604823   |     -      |     -     |   5.29   \n",
            "   2    |  1480   |   0.531752   |     -      |     -     |   5.30   \n",
            "   2    |  1500   |   0.564350   |     -      |     -     |   5.29   \n",
            "   2    |  1520   |   0.531104   |     -      |     -     |   5.28   \n",
            "   2    |  1540   |   0.702642   |     -      |     -     |   5.30   \n",
            "   2    |  1560   |   0.519732   |     -      |     -     |   5.28   \n",
            "   2    |  1580   |   0.564932   |     -      |     -     |   5.29   \n",
            "   2    |  1600   |   0.528925   |     -      |     -     |   5.30   \n",
            "   2    |  1620   |   0.497971   |     -      |     -     |   5.28   \n",
            "   2    |  1640   |   0.568314   |     -      |     -     |   5.30   \n",
            "   2    |  1660   |   0.570371   |     -      |     -     |   5.30   \n",
            "   2    |  1680   |   0.557853   |     -      |     -     |   5.30   \n",
            "   2    |  1700   |   0.640382   |     -      |     -     |   5.29   \n",
            "   2    |  1720   |   0.519504   |     -      |     -     |   5.29   \n",
            "   2    |  1740   |   0.493547   |     -      |     -     |   5.29   \n",
            "   2    |  1760   |   0.537521   |     -      |     -     |   5.29   \n",
            "   2    |  1780   |   0.515671   |     -      |     -     |   5.13   \n",
            "----------------------------------------------------------------------\n",
            "   2    |    -    |   0.562530   |  0.649215  |   72.92   |  490.82  \n",
            "----------------------------------------------------------------------\n",
            "\n",
            "\n",
            " Epoch  |  Batch  |  Train Loss  |  Val Loss  |  Val Acc  |  Elapsed \n",
            "----------------------------------------------------------------------\n",
            "   3    |   20    |   0.501193   |     -      |     -     |   5.54   \n",
            "   3    |   40    |   0.485508   |     -      |     -     |   5.28   \n",
            "   3    |   60    |   0.500813   |     -      |     -     |   5.29   \n",
            "   3    |   80    |   0.579275   |     -      |     -     |   5.29   \n",
            "   3    |   100   |   0.484378   |     -      |     -     |   5.29   \n",
            "   3    |   120   |   0.490452   |     -      |     -     |   5.30   \n",
            "   3    |   140   |   0.458560   |     -      |     -     |   5.30   \n",
            "   3    |   160   |   0.534534   |     -      |     -     |   5.30   \n",
            "   3    |   180   |   0.539542   |     -      |     -     |   5.28   \n",
            "   3    |   200   |   0.458074   |     -      |     -     |   5.28   \n",
            "   3    |   220   |   0.478618   |     -      |     -     |   5.29   \n",
            "   3    |   240   |   0.430923   |     -      |     -     |   5.29   \n",
            "   3    |   260   |   0.469829   |     -      |     -     |   5.29   \n",
            "   3    |   280   |   0.463321   |     -      |     -     |   5.30   \n",
            "   3    |   300   |   0.458269   |     -      |     -     |   5.29   \n",
            "   3    |   320   |   0.430684   |     -      |     -     |   5.29   \n",
            "   3    |   340   |   0.412499   |     -      |     -     |   5.28   \n",
            "   3    |   360   |   0.435544   |     -      |     -     |   5.28   \n",
            "   3    |   380   |   0.469272   |     -      |     -     |   5.28   \n",
            "   3    |   400   |   0.479111   |     -      |     -     |   5.28   \n",
            "   3    |   420   |   0.469161   |     -      |     -     |   5.28   \n",
            "   3    |   440   |   0.511360   |     -      |     -     |   5.28   \n",
            "   3    |   460   |   0.423255   |     -      |     -     |   5.29   \n",
            "   3    |   480   |   0.484979   |     -      |     -     |   5.28   \n",
            "   3    |   500   |   0.422885   |     -      |     -     |   5.28   \n",
            "   3    |   520   |   0.396792   |     -      |     -     |   5.29   \n",
            "   3    |   540   |   0.502838   |     -      |     -     |   5.29   \n",
            "   3    |   560   |   0.493527   |     -      |     -     |   5.30   \n",
            "   3    |   580   |   0.443761   |     -      |     -     |   5.29   \n",
            "   3    |   600   |   0.439863   |     -      |     -     |   5.28   \n",
            "   3    |   620   |   0.495849   |     -      |     -     |   5.29   \n",
            "   3    |   640   |   0.424326   |     -      |     -     |   5.29   \n",
            "   3    |   660   |   0.455047   |     -      |     -     |   5.30   \n",
            "   3    |   680   |   0.425348   |     -      |     -     |   5.30   \n",
            "   3    |   700   |   0.383317   |     -      |     -     |   5.28   \n",
            "   3    |   720   |   0.519654   |     -      |     -     |   5.29   \n",
            "   3    |   740   |   0.390760   |     -      |     -     |   5.29   \n",
            "   3    |   760   |   0.431420   |     -      |     -     |   5.29   \n",
            "   3    |   780   |   0.376722   |     -      |     -     |   5.31   \n",
            "   3    |   800   |   0.521519   |     -      |     -     |   5.29   \n",
            "   3    |   820   |   0.441433   |     -      |     -     |   5.29   \n",
            "   3    |   840   |   0.384255   |     -      |     -     |   5.28   \n",
            "   3    |   860   |   0.538335   |     -      |     -     |   5.29   \n",
            "   3    |   880   |   0.447214   |     -      |     -     |   5.31   \n",
            "   3    |   900   |   0.506114   |     -      |     -     |   5.30   \n",
            "   3    |   920   |   0.451751   |     -      |     -     |   5.31   \n",
            "   3    |   940   |   0.528682   |     -      |     -     |   5.28   \n",
            "   3    |   960   |   0.433507   |     -      |     -     |   5.30   \n",
            "   3    |   980   |   0.414629   |     -      |     -     |   5.29   \n",
            "   3    |  1000   |   0.460932   |     -      |     -     |   5.29   \n",
            "   3    |  1020   |   0.484330   |     -      |     -     |   5.29   \n",
            "   3    |  1040   |   0.507607   |     -      |     -     |   5.30   \n",
            "   3    |  1060   |   0.445494   |     -      |     -     |   5.29   \n",
            "   3    |  1080   |   0.429507   |     -      |     -     |   5.29   \n",
            "   3    |  1100   |   0.409080   |     -      |     -     |   5.29   \n",
            "   3    |  1120   |   0.413201   |     -      |     -     |   5.31   \n",
            "   3    |  1140   |   0.562751   |     -      |     -     |   5.30   \n",
            "   3    |  1160   |   0.415479   |     -      |     -     |   5.29   \n",
            "   3    |  1180   |   0.544736   |     -      |     -     |   5.29   \n",
            "   3    |  1200   |   0.420894   |     -      |     -     |   5.28   \n",
            "   3    |  1220   |   0.427657   |     -      |     -     |   5.28   \n",
            "   3    |  1240   |   0.466296   |     -      |     -     |   5.28   \n",
            "   3    |  1260   |   0.443471   |     -      |     -     |   5.29   \n",
            "   3    |  1280   |   0.412292   |     -      |     -     |   5.29   \n",
            "   3    |  1300   |   0.469973   |     -      |     -     |   5.28   \n",
            "   3    |  1320   |   0.441912   |     -      |     -     |   5.28   \n",
            "   3    |  1340   |   0.421665   |     -      |     -     |   5.28   \n",
            "   3    |  1360   |   0.420700   |     -      |     -     |   5.28   \n",
            "   3    |  1380   |   0.509976   |     -      |     -     |   5.28   \n",
            "   3    |  1400   |   0.524249   |     -      |     -     |   5.27   \n",
            "   3    |  1420   |   0.397940   |     -      |     -     |   5.28   \n",
            "   3    |  1440   |   0.501947   |     -      |     -     |   5.30   \n",
            "   3    |  1460   |   0.528134   |     -      |     -     |   5.29   \n",
            "   3    |  1480   |   0.447873   |     -      |     -     |   5.29   \n",
            "   3    |  1500   |   0.473039   |     -      |     -     |   5.29   \n",
            "   3    |  1520   |   0.469285   |     -      |     -     |   5.29   \n",
            "   3    |  1540   |   0.621983   |     -      |     -     |   5.28   \n",
            "   3    |  1560   |   0.435418   |     -      |     -     |   5.29   \n",
            "   3    |  1580   |   0.437430   |     -      |     -     |   5.29   \n",
            "   3    |  1600   |   0.474289   |     -      |     -     |   5.29   \n",
            "   3    |  1620   |   0.412857   |     -      |     -     |   5.29   \n",
            "   3    |  1640   |   0.500926   |     -      |     -     |   5.29   \n",
            "   3    |  1660   |   0.490173   |     -      |     -     |   5.28   \n",
            "   3    |  1680   |   0.452961   |     -      |     -     |   5.29   \n",
            "   3    |  1700   |   0.558276   |     -      |     -     |   5.30   \n",
            "   3    |  1720   |   0.473677   |     -      |     -     |   5.29   \n",
            "   3    |  1740   |   0.410877   |     -      |     -     |   5.29   \n",
            "   3    |  1760   |   0.451762   |     -      |     -     |   5.30   \n",
            "   3    |  1780   |   0.436437   |     -      |     -     |   5.14   \n",
            "----------------------------------------------------------------------\n",
            "   3    |    -    |   0.464360   |  0.684580  |   72.81   |  491.13  \n",
            "----------------------------------------------------------------------\n",
            "\n",
            "\n",
            "Training complete!\n"
          ]
        }
      ],
      "source": [
        "train(bert_classifier, train_dataloader, val_dataloader, epochs=epoch_number, evaluation=True)"
      ]
    },
    {
      "cell_type": "markdown",
      "source": [
        "### Evaluation"
      ],
      "metadata": {
        "id": "fKx_OjTvD4Bk"
      }
    },
    {
      "cell_type": "code",
      "execution_count": 32,
      "metadata": {
        "id": "fdopnSBFYYq4"
      },
      "outputs": [],
      "source": [
        "import torch.nn.functional as F\n",
        "\n",
        "def bert_predict(model, test_dataloader):\n",
        "    \"\"\"Perform a forward pass on the trained BERT model to predict probabilities\n",
        "    on the test set.\n",
        "    \"\"\"\n",
        "    # Put the model into the evaluation mode. The dropout layers are disabled during\n",
        "    # the test time.\n",
        "    model.eval()\n",
        "\n",
        "    all_logits = []\n",
        "\n",
        "    # For each batch in our test set...\n",
        "    for batch in test_dataloader:\n",
        "        # Load batch to GPU\n",
        "        b_input_ids, b_attn_mask = tuple(t.to(device) for t in batch)[:2]\n",
        "\n",
        "        # Compute logits\n",
        "        with torch.no_grad():\n",
        "            logits = model(b_input_ids, b_attn_mask)\n",
        "        all_logits.append(logits)\n",
        "    \n",
        "    # Concatenate logits from each batch\n",
        "    all_logits = torch.cat(all_logits, dim=0)\n",
        "\n",
        "    # Apply softmax to calculate probabilities\n",
        "    probs = F.softmax(all_logits, dim=1).cpu().numpy()\n",
        "\n",
        "    return probs"
      ]
    },
    {
      "cell_type": "code",
      "execution_count": 33,
      "metadata": {
        "id": "UBgeNr_TahQI"
      },
      "outputs": [],
      "source": [
        "# Compute predicted probabilities on the test set\n",
        "probs = bert_predict(bert_classifier, test_dataloader)\n",
        "tensor = torch.from_numpy(probs)\n",
        "ytest = torch.max(tensor, dim=1)"
      ]
    },
    {
      "cell_type": "code",
      "source": [
        "from sklearn.metrics import confusion_matrix, classification_report\n",
        "class_names = ['negative', 'neutral', 'positive']\n",
        "print(classification_report(df_test.label, ytest.indices, target_names=class_names))\n"
      ],
      "metadata": {
        "colab": {
          "base_uri": "https://localhost:8080/"
        },
        "id": "O6YWmn2SPEe_",
        "outputId": "61a5d2cc-0e71-4a34-8e29-b37b60541e61"
      },
      "execution_count": null,
      "outputs": [
        {
          "output_type": "stream",
          "name": "stdout",
          "text": [
            "              precision    recall  f1-score   support\n",
            "\n",
            "    negative       0.76      0.77      0.77      1097\n",
            "     neutral       0.68      0.67      0.67      1276\n",
            "    positive       0.79      0.78      0.78      1188\n",
            "\n",
            "    accuracy                           0.74      3561\n",
            "   macro avg       0.74      0.74      0.74      3561\n",
            "weighted avg       0.74      0.74      0.74      3561\n",
            "\n"
          ]
        }
      ]
    },
    {
      "cell_type": "code",
      "source": [
        "#Plot confusion matrix\n",
        "\n",
        "from matplotlib import rcParams\n",
        "rcParams['figure.figsize'] = 12, 8\n",
        "\n",
        "def show_confusion_matrix(confusion_matrix):\n",
        "  hmap = sns.heatmap(confusion_matrix, annot=True, fmt=\"d\", cmap=\"BuPu\")\n",
        "  hmap.yaxis.set_ticklabels(hmap.yaxis.get_ticklabels(), rotation=0, ha='right')\n",
        "  hmap.xaxis.set_ticklabels(hmap.xaxis.get_ticklabels(), rotation=30, ha='right')\n",
        "  plt.ylabel('True sentiment')\n",
        "  plt.xlabel('Predicted sentiment');"
      ],
      "metadata": {
        "id": "wFLX-fCOHzei"
      },
      "execution_count": null,
      "outputs": []
    },
    {
      "cell_type": "code",
      "source": [
        "cm = confusion_matrix(df_test.label,  ytest.indices)\n",
        "df_cm = pd.DataFrame(cm, index=class_names, columns=class_names)\n",
        "show_confusion_matrix(df_cm)"
      ],
      "metadata": {
        "colab": {
          "base_uri": "https://localhost:8080/",
          "height": 533
        },
        "id": "_lKq_WwTH1vI",
        "outputId": "582c371e-d2b2-47a8-ec02-96146e0ae96e"
      },
      "execution_count": null,
      "outputs": [
        {
          "output_type": "display_data",
          "data": {
            "text/plain": [
              "<Figure size 864x576 with 2 Axes>"
            ],
            "image/png": "[encoded data removed]"
          },
          "metadata": {}
        }
      ]
    },
    {
      "cell_type": "markdown",
      "source": [
        "### Saving and Loading the model"
      ],
      "metadata": {
        "id": "jZBE_-4PEo6Q"
      }
    },
    {
      "cell_type": "code",
      "source": [
        "torch.save(bert_classifier,'/content/drive/MyDrive/NLP/TweetEval/1-3ep0.2(T1nodot)')"
      ],
      "metadata": {
        "id": "pdrnSGF5djSk"
      },
      "execution_count": null,
      "outputs": []
    },
    {
      "cell_type": "code",
      "source": [
        "# modeLoaded = torch.load('/content/drive/MyDrive/NLP/TweetEval/1-3ep0.2(T1nodot)')"
      ],
      "metadata": {
        "id": "bT67d_-bVUO6"
      },
      "execution_count": null,
      "outputs": []
    },
    {
      "cell_type": "markdown",
      "source": [
        "### Notebook References"
      ],
      "metadata": {
        "id": "8qzyomLvFff4"
      }
    },
    {
      "cell_type": "markdown",
      "metadata": {
        "id": "25nAA8hzYQfM"
      },
      "source": [
        "ref: \n",
        "\n",
        "https://chriskhanhtran.github.io/_posts/2019-12-25-bert-for-sentiment-analysis/\n",
        "\n",
        "http://mccormickml.com/2019/07/22/BERT-fine-tuning/\n",
        "\n",
        "https://colab.research.google.com/drive/1pTuQhug6Dhl9XalKB0zUGf4FIdYFlpcX#scrollTo=8bwa6Rts-02-\n",
        "\n"
      ]
    }
  ],
  "metadata": {
    "accelerator": "GPU",
    "colab": {
      "machine_shape": "hm",
      "name": "3ep-0.2 (arch1) T1 nodot.ipynb",
      "provenance": [],
      "collapsed_sections": [
        "7f5AAk7iDvbE"
      ],
      "include_colab_link": true
    },
    "kernelspec": {
      "display_name": "Python 3",
      "name": "python3"
    },
    "language_info": {
      "name": "python"
    },
    "widgets": {
      "application/vnd.jupyter.widget-state+json": {
        "a8a062ed231e4a0daf3f41c470c23b3b": {
          "model_module": "@jupyter-widgets/controls",
          "model_name": "HBoxModel",
          "model_module_version": "1.5.0",
          "state": {
            "_dom_classes": [],
            "_model_module": "@jupyter-widgets/controls",
            "_model_module_version": "1.5.0",
            "_model_name": "HBoxModel",
            "_view_count": null,
            "_view_module": "@jupyter-widgets/controls",
            "_view_module_version": "1.5.0",
            "_view_name": "HBoxView",
            "box_style": "",
            "children": [
              "IPY_MODEL_1069a16a29f04d56951b7a3d01150707",
              "IPY_MODEL_e465bdc6d7b346cb8522acbeff9cefd3",
              "IPY_MODEL_e4bc0477876342faac0df63f9fa303ce"
            ],
            "layout": "IPY_MODEL_b429ee056980477ab621c2ae950aca7f"
          }
        },
        "1069a16a29f04d56951b7a3d01150707": {
          "model_module": "@jupyter-widgets/controls",
          "model_name": "HTMLModel",
          "model_module_version": "1.5.0",
          "state": {
            "_dom_classes": [],
            "_model_module": "@jupyter-widgets/controls",
            "_model_module_version": "1.5.0",
            "_model_name": "HTMLModel",
            "_view_count": null,
            "_view_module": "@jupyter-widgets/controls",
            "_view_module_version": "1.5.0",
            "_view_name": "HTMLView",
            "description": "",
            "description_tooltip": null,
            "layout": "IPY_MODEL_00372b91338b4dbbbd231fb02fb61fa1",
            "placeholder": "​",
            "style": "IPY_MODEL_765632c58ee44919a89bd2a542cb80da",
            "value": "Downloading: 100%"
          }
        },
        "e465bdc6d7b346cb8522acbeff9cefd3": {
          "model_module": "@jupyter-widgets/controls",
          "model_name": "FloatProgressModel",
          "model_module_version": "1.5.0",
          "state": {
            "_dom_classes": [],
            "_model_module": "@jupyter-widgets/controls",
            "_model_module_version": "1.5.0",
            "_model_name": "FloatProgressModel",
            "_view_count": null,
            "_view_module": "@jupyter-widgets/controls",
            "_view_module_version": "1.5.0",
            "_view_name": "ProgressView",
            "bar_style": "success",
            "description": "",
            "description_tooltip": null,
            "layout": "IPY_MODEL_f9098bcf9e774f26894e9d2a672c4a3c",
            "max": 213450,
            "min": 0,
            "orientation": "horizontal",
            "style": "IPY_MODEL_c7e928052f2f47a1b83026e6fdcb224a",
            "value": 213450
          }
        },
        "e4bc0477876342faac0df63f9fa303ce": {
          "model_module": "@jupyter-widgets/controls",
          "model_name": "HTMLModel",
          "model_module_version": "1.5.0",
          "state": {
            "_dom_classes": [],
            "_model_module": "@jupyter-widgets/controls",
            "_model_module_version": "1.5.0",
            "_model_name": "HTMLModel",
            "_view_count": null,
            "_view_module": "@jupyter-widgets/controls",
            "_view_module_version": "1.5.0",
            "_view_name": "HTMLView",
            "description": "",
            "description_tooltip": null,
            "layout": "IPY_MODEL_330820ecf7c34b128f9b2e83a8412e2a",
            "placeholder": "​",
            "style": "IPY_MODEL_9f7dc654b9cb4799926c5a93c781159f",
            "value": " 208k/208k [00:00&lt;00:00, 593kB/s]"
          }
        },
        "b429ee056980477ab621c2ae950aca7f": {
          "model_module": "@jupyter-widgets/base",
          "model_name": "LayoutModel",
          "model_module_version": "1.2.0",
          "state": {
            "_model_module": "@jupyter-widgets/base",
            "_model_module_version": "1.2.0",
            "_model_name": "LayoutModel",
            "_view_count": null,
            "_view_module": "@jupyter-widgets/base",
            "_view_module_version": "1.2.0",
            "_view_name": "LayoutView",
            "align_content": null,
            "align_items": null,
            "align_self": null,
            "border": null,
            "bottom": null,
            "display": null,
            "flex": null,
            "flex_flow": null,
            "grid_area": null,
            "grid_auto_columns": null,
            "grid_auto_flow": null,
            "grid_auto_rows": null,
            "grid_column": null,
            "grid_gap": null,
            "grid_row": null,
            "grid_template_areas": null,
            "grid_template_columns": null,
            "grid_template_rows": null,
            "height": null,
            "justify_content": null,
            "justify_items": null,
            "left": null,
            "margin": null,
            "max_height": null,
            "max_width": null,
            "min_height": null,
            "min_width": null,
            "object_fit": null,
            "object_position": null,
            "order": null,
            "overflow": null,
            "overflow_x": null,
            "overflow_y": null,
            "padding": null,
            "right": null,
            "top": null,
            "visibility": null,
            "width": null
          }
        },
        "00372b91338b4dbbbd231fb02fb61fa1": {
          "model_module": "@jupyter-widgets/base",
          "model_name": "LayoutModel",
          "model_module_version": "1.2.0",
          "state": {
            "_model_module": "@jupyter-widgets/base",
            "_model_module_version": "1.2.0",
            "_model_name": "LayoutModel",
            "_view_count": null,
            "_view_module": "@jupyter-widgets/base",
            "_view_module_version": "1.2.0",
            "_view_name": "LayoutView",
            "align_content": null,
            "align_items": null,
            "align_self": null,
            "border": null,
            "bottom": null,
            "display": null,
            "flex": null,
            "flex_flow": null,
            "grid_area": null,
            "grid_auto_columns": null,
            "grid_auto_flow": null,
            "grid_auto_rows": null,
            "grid_column": null,
            "grid_gap": null,
            "grid_row": null,
            "grid_template_areas": null,
            "grid_template_columns": null,
            "grid_template_rows": null,
            "height": null,
            "justify_content": null,
            "justify_items": null,
            "left": null,
            "margin": null,
            "max_height": null,
            "max_width": null,
            "min_height": null,
            "min_width": null,
            "object_fit": null,
            "object_position": null,
            "order": null,
            "overflow": null,
            "overflow_x": null,
            "overflow_y": null,
            "padding": null,
            "right": null,
            "top": null,
            "visibility": null,
            "width": null
          }
        },
        "765632c58ee44919a89bd2a542cb80da": {
          "model_module": "@jupyter-widgets/controls",
          "model_name": "DescriptionStyleModel",
          "model_module_version": "1.5.0",
          "state": {
            "_model_module": "@jupyter-widgets/controls",
            "_model_module_version": "1.5.0",
            "_model_name": "DescriptionStyleModel",
            "_view_count": null,
            "_view_module": "@jupyter-widgets/base",
            "_view_module_version": "1.2.0",
            "_view_name": "StyleView",
            "description_width": ""
          }
        },
        "f9098bcf9e774f26894e9d2a672c4a3c": {
          "model_module": "@jupyter-widgets/base",
          "model_name": "LayoutModel",
          "model_module_version": "1.2.0",
          "state": {
            "_model_module": "@jupyter-widgets/base",
            "_model_module_version": "1.2.0",
            "_model_name": "LayoutModel",
            "_view_count": null,
            "_view_module": "@jupyter-widgets/base",
            "_view_module_version": "1.2.0",
            "_view_name": "LayoutView",
            "align_content": null,
            "align_items": null,
            "align_self": null,
            "border": null,
            "bottom": null,
            "display": null,
            "flex": null,
            "flex_flow": null,
            "grid_area": null,
            "grid_auto_columns": null,
            "grid_auto_flow": null,
            "grid_auto_rows": null,
            "grid_column": null,
            "grid_gap": null,
            "grid_row": null,
            "grid_template_areas": null,
            "grid_template_columns": null,
            "grid_template_rows": null,
            "height": null,
            "justify_content": null,
            "justify_items": null,
            "left": null,
            "margin": null,
            "max_height": null,
            "max_width": null,
            "min_height": null,
            "min_width": null,
            "object_fit": null,
            "object_position": null,
            "order": null,
            "overflow": null,
            "overflow_x": null,
            "overflow_y": null,
            "padding": null,
            "right": null,
            "top": null,
            "visibility": null,
            "width": null
          }
        },
        "c7e928052f2f47a1b83026e6fdcb224a": {
          "model_module": "@jupyter-widgets/controls",
          "model_name": "ProgressStyleModel",
          "model_module_version": "1.5.0",
          "state": {
            "_model_module": "@jupyter-widgets/controls",
            "_model_module_version": "1.5.0",
            "_model_name": "ProgressStyleModel",
            "_view_count": null,
            "_view_module": "@jupyter-widgets/base",
            "_view_module_version": "1.2.0",
            "_view_name": "StyleView",
            "bar_color": null,
            "description_width": ""
          }
        },
        "330820ecf7c34b128f9b2e83a8412e2a": {
          "model_module": "@jupyter-widgets/base",
          "model_name": "LayoutModel",
          "model_module_version": "1.2.0",
          "state": {
            "_model_module": "@jupyter-widgets/base",
            "_model_module_version": "1.2.0",
            "_model_name": "LayoutModel",
            "_view_count": null,
            "_view_module": "@jupyter-widgets/base",
            "_view_module_version": "1.2.0",
            "_view_name": "LayoutView",
            "align_content": null,
            "align_items": null,
            "align_self": null,
            "border": null,
            "bottom": null,
            "display": null,
            "flex": null,
            "flex_flow": null,
            "grid_area": null,
            "grid_auto_columns": null,
            "grid_auto_flow": null,
            "grid_auto_rows": null,
            "grid_column": null,
            "grid_gap": null,
            "grid_row": null,
            "grid_template_areas": null,
            "grid_template_columns": null,
            "grid_template_rows": null,
            "height": null,
            "justify_content": null,
            "justify_items": null,
            "left": null,
            "margin": null,
            "max_height": null,
            "max_width": null,
            "min_height": null,
            "min_width": null,
            "object_fit": null,
            "object_position": null,
            "order": null,
            "overflow": null,
            "overflow_x": null,
            "overflow_y": null,
            "padding": null,
            "right": null,
            "top": null,
            "visibility": null,
            "width": null
          }
        },
        "9f7dc654b9cb4799926c5a93c781159f": {
          "model_module": "@jupyter-widgets/controls",
          "model_name": "DescriptionStyleModel",
          "model_module_version": "1.5.0",
          "state": {
            "_model_module": "@jupyter-widgets/controls",
            "_model_module_version": "1.5.0",
            "_model_name": "DescriptionStyleModel",
            "_view_count": null,
            "_view_module": "@jupyter-widgets/base",
            "_view_module_version": "1.2.0",
            "_view_name": "StyleView",
            "description_width": ""
          }
        },
        "1d0287541cb54fc993db00f9b987fbc3": {
          "model_module": "@jupyter-widgets/controls",
          "model_name": "HBoxModel",
          "model_module_version": "1.5.0",
          "state": {
            "_dom_classes": [],
            "_model_module": "@jupyter-widgets/controls",
            "_model_module_version": "1.5.0",
            "_model_name": "HBoxModel",
            "_view_count": null,
            "_view_module": "@jupyter-widgets/controls",
            "_view_module_version": "1.5.0",
            "_view_name": "HBoxView",
            "box_style": "",
            "children": [
              "IPY_MODEL_46e59d7920fc406b9f3cbcff6ba5e141",
              "IPY_MODEL_0509afd5dd2b461ea2e9f827a69d529a",
              "IPY_MODEL_36931e3d18df40e4bcbbeb9998b0884b"
            ],
            "layout": "IPY_MODEL_349f0f7a50694aa3a4417bc721738750"
          }
        },
        "46e59d7920fc406b9f3cbcff6ba5e141": {
          "model_module": "@jupyter-widgets/controls",
          "model_name": "HTMLModel",
          "model_module_version": "1.5.0",
          "state": {
            "_dom_classes": [],
            "_model_module": "@jupyter-widgets/controls",
            "_model_module_version": "1.5.0",
            "_model_name": "HTMLModel",
            "_view_count": null,
            "_view_module": "@jupyter-widgets/controls",
            "_view_module_version": "1.5.0",
            "_view_name": "HTMLView",
            "description": "",
            "description_tooltip": null,
            "layout": "IPY_MODEL_527db8917b9244b08c4a351c5aeddcec",
            "placeholder": "​",
            "style": "IPY_MODEL_91ae3fcd960f4e178ea31183bbc0fc77",
            "value": "Downloading: 100%"
          }
        },
        "0509afd5dd2b461ea2e9f827a69d529a": {
          "model_module": "@jupyter-widgets/controls",
          "model_name": "FloatProgressModel",
          "model_module_version": "1.5.0",
          "state": {
            "_dom_classes": [],
            "_model_module": "@jupyter-widgets/controls",
            "_model_module_version": "1.5.0",
            "_model_name": "FloatProgressModel",
            "_view_count": null,
            "_view_module": "@jupyter-widgets/controls",
            "_view_module_version": "1.5.0",
            "_view_name": "ProgressView",
            "bar_style": "success",
            "description": "",
            "description_tooltip": null,
            "layout": "IPY_MODEL_d6226210893942628dcd773c47b28fbf",
            "max": 29,
            "min": 0,
            "orientation": "horizontal",
            "style": "IPY_MODEL_f44316f1b50c447f8b70492acb049e1e",
            "value": 29
          }
        },
        "36931e3d18df40e4bcbbeb9998b0884b": {
          "model_module": "@jupyter-widgets/controls",
          "model_name": "HTMLModel",
          "model_module_version": "1.5.0",
          "state": {
            "_dom_classes": [],
            "_model_module": "@jupyter-widgets/controls",
            "_model_module_version": "1.5.0",
            "_model_name": "HTMLModel",
            "_view_count": null,
            "_view_module": "@jupyter-widgets/controls",
            "_view_module_version": "1.5.0",
            "_view_name": "HTMLView",
            "description": "",
            "description_tooltip": null,
            "layout": "IPY_MODEL_60c8b82b83504d2495a21bd6cf1fe403",
            "placeholder": "​",
            "style": "IPY_MODEL_3adad464c0d4424cba51936e8b61fb17",
            "value": " 29.0/29.0 [00:00&lt;00:00, 1.08kB/s]"
          }
        },
        "349f0f7a50694aa3a4417bc721738750": {
          "model_module": "@jupyter-widgets/base",
          "model_name": "LayoutModel",
          "model_module_version": "1.2.0",
          "state": {
            "_model_module": "@jupyter-widgets/base",
            "_model_module_version": "1.2.0",
            "_model_name": "LayoutModel",
            "_view_count": null,
            "_view_module": "@jupyter-widgets/base",
            "_view_module_version": "1.2.0",
            "_view_name": "LayoutView",
            "align_content": null,
            "align_items": null,
            "align_self": null,
            "border": null,
            "bottom": null,
            "display": null,
            "flex": null,
            "flex_flow": null,
            "grid_area": null,
            "grid_auto_columns": null,
            "grid_auto_flow": null,
            "grid_auto_rows": null,
            "grid_column": null,
            "grid_gap": null,
            "grid_row": null,
            "grid_template_areas": null,
            "grid_template_columns": null,
            "grid_template_rows": null,
            "height": null,
            "justify_content": null,
            "justify_items": null,
            "left": null,
            "margin": null,
            "max_height": null,
            "max_width": null,
            "min_height": null,
            "min_width": null,
            "object_fit": null,
            "object_position": null,
            "order": null,
            "overflow": null,
            "overflow_x": null,
            "overflow_y": null,
            "padding": null,
            "right": null,
            "top": null,
            "visibility": null,
            "width": null
          }
        },
        "527db8917b9244b08c4a351c5aeddcec": {
          "model_module": "@jupyter-widgets/base",
          "model_name": "LayoutModel",
          "model_module_version": "1.2.0",
          "state": {
            "_model_module": "@jupyter-widgets/base",
            "_model_module_version": "1.2.0",
            "_model_name": "LayoutModel",
            "_view_count": null,
            "_view_module": "@jupyter-widgets/base",
            "_view_module_version": "1.2.0",
            "_view_name": "LayoutView",
            "align_content": null,
            "align_items": null,
            "align_self": null,
            "border": null,
            "bottom": null,
            "display": null,
            "flex": null,
            "flex_flow": null,
            "grid_area": null,
            "grid_auto_columns": null,
            "grid_auto_flow": null,
            "grid_auto_rows": null,
            "grid_column": null,
            "grid_gap": null,
            "grid_row": null,
            "grid_template_areas": null,
            "grid_template_columns": null,
            "grid_template_rows": null,
            "height": null,
            "justify_content": null,
            "justify_items": null,
            "left": null,
            "margin": null,
            "max_height": null,
            "max_width": null,
            "min_height": null,
            "min_width": null,
            "object_fit": null,
            "object_position": null,
            "order": null,
            "overflow": null,
            "overflow_x": null,
            "overflow_y": null,
            "padding": null,
            "right": null,
            "top": null,
            "visibility": null,
            "width": null
          }
        },
        "91ae3fcd960f4e178ea31183bbc0fc77": {
          "model_module": "@jupyter-widgets/controls",
          "model_name": "DescriptionStyleModel",
          "model_module_version": "1.5.0",
          "state": {
            "_model_module": "@jupyter-widgets/controls",
            "_model_module_version": "1.5.0",
            "_model_name": "DescriptionStyleModel",
            "_view_count": null,
            "_view_module": "@jupyter-widgets/base",
            "_view_module_version": "1.2.0",
            "_view_name": "StyleView",
            "description_width": ""
          }
        },
        "d6226210893942628dcd773c47b28fbf": {
          "model_module": "@jupyter-widgets/base",
          "model_name": "LayoutModel",
          "model_module_version": "1.2.0",
          "state": {
            "_model_module": "@jupyter-widgets/base",
            "_model_module_version": "1.2.0",
            "_model_name": "LayoutModel",
            "_view_count": null,
            "_view_module": "@jupyter-widgets/base",
            "_view_module_version": "1.2.0",
            "_view_name": "LayoutView",
            "align_content": null,
            "align_items": null,
            "align_self": null,
            "border": null,
            "bottom": null,
            "display": null,
            "flex": null,
            "flex_flow": null,
            "grid_area": null,
            "grid_auto_columns": null,
            "grid_auto_flow": null,
            "grid_auto_rows": null,
            "grid_column": null,
            "grid_gap": null,
            "grid_row": null,
            "grid_template_areas": null,
            "grid_template_columns": null,
            "grid_template_rows": null,
            "height": null,
            "justify_content": null,
            "justify_items": null,
            "left": null,
            "margin": null,
            "max_height": null,
            "max_width": null,
            "min_height": null,
            "min_width": null,
            "object_fit": null,
            "object_position": null,
            "order": null,
            "overflow": null,
            "overflow_x": null,
            "overflow_y": null,
            "padding": null,
            "right": null,
            "top": null,
            "visibility": null,
            "width": null
          }
        },
        "f44316f1b50c447f8b70492acb049e1e": {
          "model_module": "@jupyter-widgets/controls",
          "model_name": "ProgressStyleModel",
          "model_module_version": "1.5.0",
          "state": {
            "_model_module": "@jupyter-widgets/controls",
            "_model_module_version": "1.5.0",
            "_model_name": "ProgressStyleModel",
            "_view_count": null,
            "_view_module": "@jupyter-widgets/base",
            "_view_module_version": "1.2.0",
            "_view_name": "StyleView",
            "bar_color": null,
            "description_width": ""
          }
        },
        "60c8b82b83504d2495a21bd6cf1fe403": {
          "model_module": "@jupyter-widgets/base",
          "model_name": "LayoutModel",
          "model_module_version": "1.2.0",
          "state": {
            "_model_module": "@jupyter-widgets/base",
            "_model_module_version": "1.2.0",
            "_model_name": "LayoutModel",
            "_view_count": null,
            "_view_module": "@jupyter-widgets/base",
            "_view_module_version": "1.2.0",
            "_view_name": "LayoutView",
            "align_content": null,
            "align_items": null,
            "align_self": null,
            "border": null,
            "bottom": null,
            "display": null,
            "flex": null,
            "flex_flow": null,
            "grid_area": null,
            "grid_auto_columns": null,
            "grid_auto_flow": null,
            "grid_auto_rows": null,
            "grid_column": null,
            "grid_gap": null,
            "grid_row": null,
            "grid_template_areas": null,
            "grid_template_columns": null,
            "grid_template_rows": null,
            "height": null,
            "justify_content": null,
            "justify_items": null,
            "left": null,
            "margin": null,
            "max_height": null,
            "max_width": null,
            "min_height": null,
            "min_width": null,
            "object_fit": null,
            "object_position": null,
            "order": null,
            "overflow": null,
            "overflow_x": null,
            "overflow_y": null,
            "padding": null,
            "right": null,
            "top": null,
            "visibility": null,
            "width": null
          }
        },
        "3adad464c0d4424cba51936e8b61fb17": {
          "model_module": "@jupyter-widgets/controls",
          "model_name": "DescriptionStyleModel",
          "model_module_version": "1.5.0",
          "state": {
            "_model_module": "@jupyter-widgets/controls",
            "_model_module_version": "1.5.0",
            "_model_name": "DescriptionStyleModel",
            "_view_count": null,
            "_view_module": "@jupyter-widgets/base",
            "_view_module_version": "1.2.0",
            "_view_name": "StyleView",
            "description_width": ""
          }
        },
        "20c081492ba74d22895f3f20d9135451": {
          "model_module": "@jupyter-widgets/controls",
          "model_name": "HBoxModel",
          "model_module_version": "1.5.0",
          "state": {
            "_dom_classes": [],
            "_model_module": "@jupyter-widgets/controls",
            "_model_module_version": "1.5.0",
            "_model_name": "HBoxModel",
            "_view_count": null,
            "_view_module": "@jupyter-widgets/controls",
            "_view_module_version": "1.5.0",
            "_view_name": "HBoxView",
            "box_style": "",
            "children": [
              "IPY_MODEL_79240864f44549cd90365eba5006613f",
              "IPY_MODEL_933e00a9ac5d4c39a3fd18020e0790e1",
              "IPY_MODEL_0877fc1a21694589bd38230e3db012fb"
            ],
            "layout": "IPY_MODEL_6ef711ca8e3d4815886045fe85338be2"
          }
        },
        "79240864f44549cd90365eba5006613f": {
          "model_module": "@jupyter-widgets/controls",
          "model_name": "HTMLModel",
          "model_module_version": "1.5.0",
          "state": {
            "_dom_classes": [],
            "_model_module": "@jupyter-widgets/controls",
            "_model_module_version": "1.5.0",
            "_model_name": "HTMLModel",
            "_view_count": null,
            "_view_module": "@jupyter-widgets/controls",
            "_view_module_version": "1.5.0",
            "_view_name": "HTMLView",
            "description": "",
            "description_tooltip": null,
            "layout": "IPY_MODEL_82513b3e807b44b5851f6a478d1369e6",
            "placeholder": "​",
            "style": "IPY_MODEL_a86fe9a63b18453cb975bef570150acc",
            "value": "Downloading: 100%"
          }
        },
        "933e00a9ac5d4c39a3fd18020e0790e1": {
          "model_module": "@jupyter-widgets/controls",
          "model_name": "FloatProgressModel",
          "model_module_version": "1.5.0",
          "state": {
            "_dom_classes": [],
            "_model_module": "@jupyter-widgets/controls",
            "_model_module_version": "1.5.0",
            "_model_name": "FloatProgressModel",
            "_view_count": null,
            "_view_module": "@jupyter-widgets/controls",
            "_view_module_version": "1.5.0",
            "_view_name": "ProgressView",
            "bar_style": "success",
            "description": "",
            "description_tooltip": null,
            "layout": "IPY_MODEL_be072f8e70b346a4ac6b40ed71034522",
            "max": 570,
            "min": 0,
            "orientation": "horizontal",
            "style": "IPY_MODEL_fc6da1d47e2b43c08bde6bee6aa517ad",
            "value": 570
          }
        },
        "0877fc1a21694589bd38230e3db012fb": {
          "model_module": "@jupyter-widgets/controls",
          "model_name": "HTMLModel",
          "model_module_version": "1.5.0",
          "state": {
            "_dom_classes": [],
            "_model_module": "@jupyter-widgets/controls",
            "_model_module_version": "1.5.0",
            "_model_name": "HTMLModel",
            "_view_count": null,
            "_view_module": "@jupyter-widgets/controls",
            "_view_module_version": "1.5.0",
            "_view_name": "HTMLView",
            "description": "",
            "description_tooltip": null,
            "layout": "IPY_MODEL_47e3880d747f44bb9effddb716b0764c",
            "placeholder": "​",
            "style": "IPY_MODEL_42e10351fad546ca9596c892e1d9e044",
            "value": " 570/570 [00:00&lt;00:00, 22.3kB/s]"
          }
        },
        "6ef711ca8e3d4815886045fe85338be2": {
          "model_module": "@jupyter-widgets/base",
          "model_name": "LayoutModel",
          "model_module_version": "1.2.0",
          "state": {
            "_model_module": "@jupyter-widgets/base",
            "_model_module_version": "1.2.0",
            "_model_name": "LayoutModel",
            "_view_count": null,
            "_view_module": "@jupyter-widgets/base",
            "_view_module_version": "1.2.0",
            "_view_name": "LayoutView",
            "align_content": null,
            "align_items": null,
            "align_self": null,
            "border": null,
            "bottom": null,
            "display": null,
            "flex": null,
            "flex_flow": null,
            "grid_area": null,
            "grid_auto_columns": null,
            "grid_auto_flow": null,
            "grid_auto_rows": null,
            "grid_column": null,
            "grid_gap": null,
            "grid_row": null,
            "grid_template_areas": null,
            "grid_template_columns": null,
            "grid_template_rows": null,
            "height": null,
            "justify_content": null,
            "justify_items": null,
            "left": null,
            "margin": null,
            "max_height": null,
            "max_width": null,
            "min_height": null,
            "min_width": null,
            "object_fit": null,
            "object_position": null,
            "order": null,
            "overflow": null,
            "overflow_x": null,
            "overflow_y": null,
            "padding": null,
            "right": null,
            "top": null,
            "visibility": null,
            "width": null
          }
        },
        "82513b3e807b44b5851f6a478d1369e6": {
          "model_module": "@jupyter-widgets/base",
          "model_name": "LayoutModel",
          "model_module_version": "1.2.0",
          "state": {
            "_model_module": "@jupyter-widgets/base",
            "_model_module_version": "1.2.0",
            "_model_name": "LayoutModel",
            "_view_count": null,
            "_view_module": "@jupyter-widgets/base",
            "_view_module_version": "1.2.0",
            "_view_name": "LayoutView",
            "align_content": null,
            "align_items": null,
            "align_self": null,
            "border": null,
            "bottom": null,
            "display": null,
            "flex": null,
            "flex_flow": null,
            "grid_area": null,
            "grid_auto_columns": null,
            "grid_auto_flow": null,
            "grid_auto_rows": null,
            "grid_column": null,
            "grid_gap": null,
            "grid_row": null,
            "grid_template_areas": null,
            "grid_template_columns": null,
            "grid_template_rows": null,
            "height": null,
            "justify_content": null,
            "justify_items": null,
            "left": null,
            "margin": null,
            "max_height": null,
            "max_width": null,
            "min_height": null,
            "min_width": null,
            "object_fit": null,
            "object_position": null,
            "order": null,
            "overflow": null,
            "overflow_x": null,
            "overflow_y": null,
            "padding": null,
            "right": null,
            "top": null,
            "visibility": null,
            "width": null
          }
        },
        "a86fe9a63b18453cb975bef570150acc": {
          "model_module": "@jupyter-widgets/controls",
          "model_name": "DescriptionStyleModel",
          "model_module_version": "1.5.0",
          "state": {
            "_model_module": "@jupyter-widgets/controls",
            "_model_module_version": "1.5.0",
            "_model_name": "DescriptionStyleModel",
            "_view_count": null,
            "_view_module": "@jupyter-widgets/base",
            "_view_module_version": "1.2.0",
            "_view_name": "StyleView",
            "description_width": ""
          }
        },
        "be072f8e70b346a4ac6b40ed71034522": {
          "model_module": "@jupyter-widgets/base",
          "model_name": "LayoutModel",
          "model_module_version": "1.2.0",
          "state": {
            "_model_module": "@jupyter-widgets/base",
            "_model_module_version": "1.2.0",
            "_model_name": "LayoutModel",
            "_view_count": null,
            "_view_module": "@jupyter-widgets/base",
            "_view_module_version": "1.2.0",
            "_view_name": "LayoutView",
            "align_content": null,
            "align_items": null,
            "align_self": null,
            "border": null,
            "bottom": null,
            "display": null,
            "flex": null,
            "flex_flow": null,
            "grid_area": null,
            "grid_auto_columns": null,
            "grid_auto_flow": null,
            "grid_auto_rows": null,
            "grid_column": null,
            "grid_gap": null,
            "grid_row": null,
            "grid_template_areas": null,
            "grid_template_columns": null,
            "grid_template_rows": null,
            "height": null,
            "justify_content": null,
            "justify_items": null,
            "left": null,
            "margin": null,
            "max_height": null,
            "max_width": null,
            "min_height": null,
            "min_width": null,
            "object_fit": null,
            "object_position": null,
            "order": null,
            "overflow": null,
            "overflow_x": null,
            "overflow_y": null,
            "padding": null,
            "right": null,
            "top": null,
            "visibility": null,
            "width": null
          }
        },
        "fc6da1d47e2b43c08bde6bee6aa517ad": {
          "model_module": "@jupyter-widgets/controls",
          "model_name": "ProgressStyleModel",
          "model_module_version": "1.5.0",
          "state": {
            "_model_module": "@jupyter-widgets/controls",
            "_model_module_version": "1.5.0",
            "_model_name": "ProgressStyleModel",
            "_view_count": null,
            "_view_module": "@jupyter-widgets/base",
            "_view_module_version": "1.2.0",
            "_view_name": "StyleView",
            "bar_color": null,
            "description_width": ""
          }
        },
        "47e3880d747f44bb9effddb716b0764c": {
          "model_module": "@jupyter-widgets/base",
          "model_name": "LayoutModel",
          "model_module_version": "1.2.0",
          "state": {
            "_model_module": "@jupyter-widgets/base",
            "_model_module_version": "1.2.0",
            "_model_name": "LayoutModel",
            "_view_count": null,
            "_view_module": "@jupyter-widgets/base",
            "_view_module_version": "1.2.0",
            "_view_name": "LayoutView",
            "align_content": null,
            "align_items": null,
            "align_self": null,
            "border": null,
            "bottom": null,
            "display": null,
            "flex": null,
            "flex_flow": null,
            "grid_area": null,
            "grid_auto_columns": null,
            "grid_auto_flow": null,
            "grid_auto_rows": null,
            "grid_column": null,
            "grid_gap": null,
            "grid_row": null,
            "grid_template_areas": null,
            "grid_template_columns": null,
            "grid_template_rows": null,
            "height": null,
            "justify_content": null,
            "justify_items": null,
            "left": null,
            "margin": null,
            "max_height": null,
            "max_width": null,
            "min_height": null,
            "min_width": null,
            "object_fit": null,
            "object_position": null,
            "order": null,
            "overflow": null,
            "overflow_x": null,
            "overflow_y": null,
            "padding": null,
            "right": null,
            "top": null,
            "visibility": null,
            "width": null
          }
        },
        "42e10351fad546ca9596c892e1d9e044": {
          "model_module": "@jupyter-widgets/controls",
          "model_name": "DescriptionStyleModel",
          "model_module_version": "1.5.0",
          "state": {
            "_model_module": "@jupyter-widgets/controls",
            "_model_module_version": "1.5.0",
            "_model_name": "DescriptionStyleModel",
            "_view_count": null,
            "_view_module": "@jupyter-widgets/base",
            "_view_module_version": "1.2.0",
            "_view_name": "StyleView",
            "description_width": ""
          }
        },
        "27a2d3884820459e95fe058b89a7d5ea": {
          "model_module": "@jupyter-widgets/controls",
          "model_name": "HBoxModel",
          "model_module_version": "1.5.0",
          "state": {
            "_dom_classes": [],
            "_model_module": "@jupyter-widgets/controls",
            "_model_module_version": "1.5.0",
            "_model_name": "HBoxModel",
            "_view_count": null,
            "_view_module": "@jupyter-widgets/controls",
            "_view_module_version": "1.5.0",
            "_view_name": "HBoxView",
            "box_style": "",
            "children": [
              "IPY_MODEL_1d24d87ad6864e66a7a1106ba2ab6390",
              "IPY_MODEL_3d3f45fbf29948bb86a4294d09b57786",
              "IPY_MODEL_fe3e0409926748d383f12b4c2a865a5c"
            ],
            "layout": "IPY_MODEL_6709b1766d5b481890423c42486ecf08"
          }
        },
        "1d24d87ad6864e66a7a1106ba2ab6390": {
          "model_module": "@jupyter-widgets/controls",
          "model_name": "HTMLModel",
          "model_module_version": "1.5.0",
          "state": {
            "_dom_classes": [],
            "_model_module": "@jupyter-widgets/controls",
            "_model_module_version": "1.5.0",
            "_model_name": "HTMLModel",
            "_view_count": null,
            "_view_module": "@jupyter-widgets/controls",
            "_view_module_version": "1.5.0",
            "_view_name": "HTMLView",
            "description": "",
            "description_tooltip": null,
            "layout": "IPY_MODEL_a976d3c3cf184716b9d7336116496991",
            "placeholder": "​",
            "style": "IPY_MODEL_b965186f58d040f097eba6654ebad146",
            "value": "Downloading: 100%"
          }
        },
        "3d3f45fbf29948bb86a4294d09b57786": {
          "model_module": "@jupyter-widgets/controls",
          "model_name": "FloatProgressModel",
          "model_module_version": "1.5.0",
          "state": {
            "_dom_classes": [],
            "_model_module": "@jupyter-widgets/controls",
            "_model_module_version": "1.5.0",
            "_model_name": "FloatProgressModel",
            "_view_count": null,
            "_view_module": "@jupyter-widgets/controls",
            "_view_module_version": "1.5.0",
            "_view_name": "ProgressView",
            "bar_style": "success",
            "description": "",
            "description_tooltip": null,
            "layout": "IPY_MODEL_0f7ee05a92814c0d9cdc58450d89c268",
            "max": 435779157,
            "min": 0,
            "orientation": "horizontal",
            "style": "IPY_MODEL_5d51d3a566ed4f69a7201cf37b96567c",
            "value": 435779157
          }
        },
        "fe3e0409926748d383f12b4c2a865a5c": {
          "model_module": "@jupyter-widgets/controls",
          "model_name": "HTMLModel",
          "model_module_version": "1.5.0",
          "state": {
            "_dom_classes": [],
            "_model_module": "@jupyter-widgets/controls",
            "_model_module_version": "1.5.0",
            "_model_name": "HTMLModel",
            "_view_count": null,
            "_view_module": "@jupyter-widgets/controls",
            "_view_module_version": "1.5.0",
            "_view_name": "HTMLView",
            "description": "",
            "description_tooltip": null,
            "layout": "IPY_MODEL_79969b2ef8bc49a68f8d4506428d91f8",
            "placeholder": "​",
            "style": "IPY_MODEL_a124bc03d6d6427093710457045f33a9",
            "value": " 416M/416M [00:07&lt;00:00, 57.3MB/s]"
          }
        },
        "6709b1766d5b481890423c42486ecf08": {
          "model_module": "@jupyter-widgets/base",
          "model_name": "LayoutModel",
          "model_module_version": "1.2.0",
          "state": {
            "_model_module": "@jupyter-widgets/base",
            "_model_module_version": "1.2.0",
            "_model_name": "LayoutModel",
            "_view_count": null,
            "_view_module": "@jupyter-widgets/base",
            "_view_module_version": "1.2.0",
            "_view_name": "LayoutView",
            "align_content": null,
            "align_items": null,
            "align_self": null,
            "border": null,
            "bottom": null,
            "display": null,
            "flex": null,
            "flex_flow": null,
            "grid_area": null,
            "grid_auto_columns": null,
            "grid_auto_flow": null,
            "grid_auto_rows": null,
            "grid_column": null,
            "grid_gap": null,
            "grid_row": null,
            "grid_template_areas": null,
            "grid_template_columns": null,
            "grid_template_rows": null,
            "height": null,
            "justify_content": null,
            "justify_items": null,
            "left": null,
            "margin": null,
            "max_height": null,
            "max_width": null,
            "min_height": null,
            "min_width": null,
            "object_fit": null,
            "object_position": null,
            "order": null,
            "overflow": null,
            "overflow_x": null,
            "overflow_y": null,
            "padding": null,
            "right": null,
            "top": null,
            "visibility": null,
            "width": null
          }
        },
        "a976d3c3cf184716b9d7336116496991": {
          "model_module": "@jupyter-widgets/base",
          "model_name": "LayoutModel",
          "model_module_version": "1.2.0",
          "state": {
            "_model_module": "@jupyter-widgets/base",
            "_model_module_version": "1.2.0",
            "_model_name": "LayoutModel",
            "_view_count": null,
            "_view_module": "@jupyter-widgets/base",
            "_view_module_version": "1.2.0",
            "_view_name": "LayoutView",
            "align_content": null,
            "align_items": null,
            "align_self": null,
            "border": null,
            "bottom": null,
            "display": null,
            "flex": null,
            "flex_flow": null,
            "grid_area": null,
            "grid_auto_columns": null,
            "grid_auto_flow": null,
            "grid_auto_rows": null,
            "grid_column": null,
            "grid_gap": null,
            "grid_row": null,
            "grid_template_areas": null,
            "grid_template_columns": null,
            "grid_template_rows": null,
            "height": null,
            "justify_content": null,
            "justify_items": null,
            "left": null,
            "margin": null,
            "max_height": null,
            "max_width": null,
            "min_height": null,
            "min_width": null,
            "object_fit": null,
            "object_position": null,
            "order": null,
            "overflow": null,
            "overflow_x": null,
            "overflow_y": null,
            "padding": null,
            "right": null,
            "top": null,
            "visibility": null,
            "width": null
          }
        },
        "b965186f58d040f097eba6654ebad146": {
          "model_module": "@jupyter-widgets/controls",
          "model_name": "DescriptionStyleModel",
          "model_module_version": "1.5.0",
          "state": {
            "_model_module": "@jupyter-widgets/controls",
            "_model_module_version": "1.5.0",
            "_model_name": "DescriptionStyleModel",
            "_view_count": null,
            "_view_module": "@jupyter-widgets/base",
            "_view_module_version": "1.2.0",
            "_view_name": "StyleView",
            "description_width": ""
          }
        },
        "0f7ee05a92814c0d9cdc58450d89c268": {
          "model_module": "@jupyter-widgets/base",
          "model_name": "LayoutModel",
          "model_module_version": "1.2.0",
          "state": {
            "_model_module": "@jupyter-widgets/base",
            "_model_module_version": "1.2.0",
            "_model_name": "LayoutModel",
            "_view_count": null,
            "_view_module": "@jupyter-widgets/base",
            "_view_module_version": "1.2.0",
            "_view_name": "LayoutView",
            "align_content": null,
            "align_items": null,
            "align_self": null,
            "border": null,
            "bottom": null,
            "display": null,
            "flex": null,
            "flex_flow": null,
            "grid_area": null,
            "grid_auto_columns": null,
            "grid_auto_flow": null,
            "grid_auto_rows": null,
            "grid_column": null,
            "grid_gap": null,
            "grid_row": null,
            "grid_template_areas": null,
            "grid_template_columns": null,
            "grid_template_rows": null,
            "height": null,
            "justify_content": null,
            "justify_items": null,
            "left": null,
            "margin": null,
            "max_height": null,
            "max_width": null,
            "min_height": null,
            "min_width": null,
            "object_fit": null,
            "object_position": null,
            "order": null,
            "overflow": null,
            "overflow_x": null,
            "overflow_y": null,
            "padding": null,
            "right": null,
            "top": null,
            "visibility": null,
            "width": null
          }
        },
        "5d51d3a566ed4f69a7201cf37b96567c": {
          "model_module": "@jupyter-widgets/controls",
          "model_name": "ProgressStyleModel",
          "model_module_version": "1.5.0",
          "state": {
            "_model_module": "@jupyter-widgets/controls",
            "_model_module_version": "1.5.0",
            "_model_name": "ProgressStyleModel",
            "_view_count": null,
            "_view_module": "@jupyter-widgets/base",
            "_view_module_version": "1.2.0",
            "_view_name": "StyleView",
            "bar_color": null,
            "description_width": ""
          }
        },
        "79969b2ef8bc49a68f8d4506428d91f8": {
          "model_module": "@jupyter-widgets/base",
          "model_name": "LayoutModel",
          "model_module_version": "1.2.0",
          "state": {
            "_model_module": "@jupyter-widgets/base",
            "_model_module_version": "1.2.0",
            "_model_name": "LayoutModel",
            "_view_count": null,
            "_view_module": "@jupyter-widgets/base",
            "_view_module_version": "1.2.0",
            "_view_name": "LayoutView",
            "align_content": null,
            "align_items": null,
            "align_self": null,
            "border": null,
            "bottom": null,
            "display": null,
            "flex": null,
            "flex_flow": null,
            "grid_area": null,
            "grid_auto_columns": null,
            "grid_auto_flow": null,
            "grid_auto_rows": null,
            "grid_column": null,
            "grid_gap": null,
            "grid_row": null,
            "grid_template_areas": null,
            "grid_template_columns": null,
            "grid_template_rows": null,
            "height": null,
            "justify_content": null,
            "justify_items": null,
            "left": null,
            "margin": null,
            "max_height": null,
            "max_width": null,
            "min_height": null,
            "min_width": null,
            "object_fit": null,
            "object_position": null,
            "order": null,
            "overflow": null,
            "overflow_x": null,
            "overflow_y": null,
            "padding": null,
            "right": null,
            "top": null,
            "visibility": null,
            "width": null
          }
        },
        "a124bc03d6d6427093710457045f33a9": {
          "model_module": "@jupyter-widgets/controls",
          "model_name": "DescriptionStyleModel",
          "model_module_version": "1.5.0",
          "state": {
            "_model_module": "@jupyter-widgets/controls",
            "_model_module_version": "1.5.0",
            "_model_name": "DescriptionStyleModel",
            "_view_count": null,
            "_view_module": "@jupyter-widgets/base",
            "_view_module_version": "1.2.0",
            "_view_name": "StyleView",
            "description_width": ""
          }
        }
      }
    }
  },
  "nbformat": 4,
  "nbformat_minor": 0
}